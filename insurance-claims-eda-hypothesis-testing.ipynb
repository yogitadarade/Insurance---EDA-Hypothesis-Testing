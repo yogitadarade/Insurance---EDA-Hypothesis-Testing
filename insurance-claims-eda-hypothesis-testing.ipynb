{
 "cells": [
  {
   "cell_type": "markdown",
   "id": "after-tamil",
   "metadata": {
    "papermill": {
     "duration": 0.069629,
     "end_time": "2021-06-30T23:40:52.009119",
     "exception": false,
     "start_time": "2021-06-30T23:40:51.939490",
     "status": "completed"
    },
    "tags": []
   },
   "source": [
    "<h1 style=\"font-size: 40px; \n",
    "    font-family:Garamond; \n",
    "    margin-bottom:2px;\n",
    "    background-color: steelblue; \n",
    "    border-radius: 5px 5px; \n",
    "    padding: 5px;\n",
    "    color: white; \n",
    "    text-align: center;\">Business Statistics:  EDA & Insurance claims</h1>"
   ]
  },
  {
   "cell_type": "markdown",
   "id": "decent-provision",
   "metadata": {
    "papermill": {
     "duration": 0.067216,
     "end_time": "2021-06-30T23:40:52.278200",
     "exception": false,
     "start_time": "2021-06-30T23:40:52.210984",
     "status": "completed"
    },
    "tags": []
   },
   "source": [
    "**Objective – Explore the dataset and extract insights from the data. Using statistical evidence to**\n",
    "- Prove (or disprove) that the medical claims made by the people who smoke is greater than those who don't? \n",
    "- Prove (or disprove) with statistical evidence that the BMI of females is different from that of males.\n",
    "- Is the proportion of smokers significantly different across different regions? \n",
    "- Is the mean BMI of women with no children, one child, and two children the same?<br>\n",
    "\n",
    "<br>"
   ]
  },
  {
   "cell_type": "markdown",
   "id": "married-teacher",
   "metadata": {
    "papermill": {
     "duration": 0.066682,
     "end_time": "2021-06-30T23:40:52.412021",
     "exception": false,
     "start_time": "2021-06-30T23:40:52.345339",
     "status": "completed"
    },
    "tags": []
   },
   "source": [
    "<a href='#tb'></a>\n",
    "\n",
    "<h2 style=\"background-color: steelblue; \n",
    "    color: white; \n",
    "    padding: 8px; \n",
    "    padding-right: 300px; \n",
    "    font-size: 24px; \n",
    "    font-family:Garamond \n",
    "    max-width: 1500px; \n",
    "    margin-top: 50px;\n",
    "    margin-bottom:4px;\"> Table of Contents</h2>\n",
    "      \n",
    "-  <a href='#ct'>Context </a>\n",
    "-  <a href='#dd'>Data Dictionary </a>\n",
    "-  <a href='#li'>Libraries </a>\n",
    "-  <a href='#rd'>Read and Understand Data </a>\n",
    "-  <a href='#eda'>Exploratory Data Analysis </a>\n",
    "-  <a href='#cn'>Conclusion </a>\n",
    "-  <a href='#sa'>Statistical Analysis</a>\n",
    "-  <a href='#br'>Recommendation</a>\n",
    "\n"
   ]
  },
  {
   "cell_type": "markdown",
   "id": "b826e3d7",
   "metadata": {
    "papermill": {
     "duration": 0.066748,
     "end_time": "2021-06-30T23:40:52.545757",
     "exception": false,
     "start_time": "2021-06-30T23:40:52.479009",
     "status": "completed"
    },
    "tags": []
   },
   "source": [
    "<a id='ct'></a>\n",
    "<h2 style=\"background-color: steelblue; \n",
    "    color: white; \n",
    "    padding: 8px; \n",
    "    padding-right: 300px; \n",
    "    font-size: 24px; \n",
    "    font-family:Garamond \n",
    "    max-width: 1500px; \n",
    "    margin-top: 50px;\n",
    "    margin-bottom:4px;\">Context</h2>"
   ]
  },
  {
   "cell_type": "markdown",
   "id": "organizational-increase",
   "metadata": {
    "papermill": {
     "duration": 0.066748,
     "end_time": "2021-06-30T23:40:52.545757",
     "exception": false,
     "start_time": "2021-06-30T23:40:52.479009",
     "status": "completed"
    },
    "tags": []
   },
   "source": [
    "Leveraging customer information is of paramount importance for most businesses. In the case of an insurance company, attributes of customers like the age, sex,bmi,smoker,children can be crucial in making business decisions. \n"
   ]
  },
  {
   "cell_type": "markdown",
   "id": "dominant-vaccine",
   "metadata": {
    "papermill": {
     "duration": 0.066773,
     "end_time": "2021-06-30T23:40:52.679528",
     "exception": false,
     "start_time": "2021-06-30T23:40:52.612755",
     "status": "completed"
    },
    "tags": []
   },
   "source": [
    "<a id='dd'></a>\n",
    "<h2 style=\"background-color: steelblue; \n",
    "    color: white; \n",
    "    padding: 8px; \n",
    "    padding-right: 300px; \n",
    "    font-size: 24px; \n",
    "    font-family:Garamond \n",
    "    max-width: 1500px; \n",
    "    margin-top: 50px;\n",
    "    margin-bottom:4px;\">Data Dictionary</h2>\n",
    "\n",
    "- Age :- This is an integer indicating the age of the primary beneficiary (excluding those above 64 years, since they are generally covered by the government).\n",
    "- Sex :- This is the policy holder's gender, either male or female.\n",
    "- BMI :- This is the body mass index (BMI), which provides a sense of how over or under-weight a person is relative to their height. BMI is equal to weight (in kilograms) divided by height (in meters) squared. An ideal BMI is within the range of 18.5 to 24.9.\n",
    "- Children :- This is an integer indicating the number of children / dependents covered by the insurance plan.\n",
    "- Smoker :- This is yes or no depending on whether the insured regularly smokes tobacco.\n",
    "- Region :- This is the beneficiary's place of residence in the U.S., divided into four geographic regions - northeast, southeast, southwest, or northwest.\n",
    "- Charges​ :- Individual medical costs billed to health insurance"
   ]
  },
  {
   "cell_type": "markdown",
   "id": "distributed-wayne",
   "metadata": {
    "papermill": {
     "duration": 0.067399,
     "end_time": "2021-06-30T23:40:52.813931",
     "exception": false,
     "start_time": "2021-06-30T23:40:52.746532",
     "status": "completed"
    },
    "tags": []
   },
   "source": [
    "# Question to be answered\n",
    "- Are there more Male beneficary ?\n",
    "- Are there more smoker ?\n",
    "- Which region has maximum , medical cost billed to health insurance.?\n",
    "- What is age of beneficary.?\n",
    "- Do beneficary having more dependents had more medical cost billed.?\n"
   ]
  },
  {
   "cell_type": "markdown",
   "id": "impressive-latin",
   "metadata": {
    "papermill": {
     "duration": 0.066889,
     "end_time": "2021-06-30T23:40:52.948865",
     "exception": false,
     "start_time": "2021-06-30T23:40:52.881976",
     "status": "completed"
    },
    "tags": []
   },
   "source": [
    " <a id=li></a>\n",
    " <h2 style=\"background-color: steelblue; \n",
    "    color: white; \n",
    "    padding: 8px; \n",
    "    padding-right: 300px; \n",
    "    font-size: 24px; \n",
    "    font-family:Garamond \n",
    "    max-width: 1500px; \n",
    "    margin-top: 50px;\n",
    "    margin-bottom:4px;\">Libraries</h2>\n",
    "\n"
   ]
  },
  {
   "cell_type": "code",
   "execution_count": 1,
   "id": "unsigned-handy",
   "metadata": {
    "execution": {
     "iopub.execute_input": "2021-06-30T23:40:53.095147Z",
     "iopub.status.busy": "2021-06-30T23:40:53.094402Z",
     "iopub.status.idle": "2021-06-30T23:40:54.186674Z",
     "shell.execute_reply": "2021-06-30T23:40:54.185989Z"
    },
    "papermill": {
     "duration": 1.17012,
     "end_time": "2021-06-30T23:40:54.186859",
     "exception": false,
     "start_time": "2021-06-30T23:40:53.016739",
     "status": "completed"
    },
    "tags": []
   },
   "outputs": [],
   "source": [
    "### IMPORT: ------------------------------------\n",
    "import scipy.stats as stats #It has all the probability distributions available along with many statistical functions.\n",
    "import pandas as pd\n",
    "import numpy as np\n",
    "import matplotlib.pyplot as plt\n",
    "%matplotlib inline\n",
    "import seaborn as sns\n",
    "import warnings\n",
    "warnings.filterwarnings('ignore') # To supress warnings\n",
    "sns.set(style=\"darkgrid\") # set the background for the graphs\n",
    "from scipy.stats import skew\n",
    "from statsmodels.stats.proportion import proportions_ztest # For proportion Z-test\n",
    "from statsmodels.formula.api import ols      # For n-way ANOVA\n",
    "from statsmodels.stats.anova import anova_lm # For n-way ANOVA\n",
    "from   scipy.stats import chi2_contingency   # For Chi-Sq \n"
   ]
  },
  {
   "cell_type": "markdown",
   "id": "pointed-transmission",
   "metadata": {
    "papermill": {
     "duration": 0.078125,
     "end_time": "2021-06-30T23:40:54.332236",
     "exception": false,
     "start_time": "2021-06-30T23:40:54.254111",
     "status": "completed"
    },
    "tags": []
   },
   "source": [
    "<a id='rd'></a>\n",
    " <h2 style=\"background-color: steelblue; \n",
    "    color: white; \n",
    "    padding: 8px; \n",
    "    padding-right: 300px; \n",
    "    font-size: 24px; \n",
    "    font-family:Garamond \n",
    "    max-width: 1500px; \n",
    "    margin-top: 50px;\n",
    "    margin-bottom:4px;\">Read and Understand Data</h2>\n"
   ]
  },
  {
   "cell_type": "code",
   "execution_count": 2,
   "id": "middle-threat",
   "metadata": {
    "execution": {
     "iopub.execute_input": "2021-06-30T23:40:54.513484Z",
     "iopub.status.busy": "2021-06-30T23:40:54.512518Z",
     "iopub.status.idle": "2021-06-30T23:40:54.535910Z",
     "shell.execute_reply": "2021-06-30T23:40:54.536653Z"
    },
    "papermill": {
     "duration": 0.113005,
     "end_time": "2021-06-30T23:40:54.536898",
     "exception": false,
     "start_time": "2021-06-30T23:40:54.423893",
     "status": "completed"
    },
    "tags": []
   },
   "outputs": [],
   "source": [
    "#Reading the csv file AxisInsurance.csv \n",
    "data_path='../input/insurance/insurance.csv'\n",
    "df=pd.read_csv(data_path)\n",
    "insured=df.copy()"
   ]
  },
  {
   "cell_type": "code",
   "execution_count": 3,
   "id": "weighted-opinion",
   "metadata": {
    "execution": {
     "iopub.execute_input": "2021-06-30T23:40:54.690015Z",
     "iopub.status.busy": "2021-06-30T23:40:54.688949Z",
     "iopub.status.idle": "2021-06-30T23:40:54.729873Z",
     "shell.execute_reply": "2021-06-30T23:40:54.731569Z"
    },
    "papermill": {
     "duration": 0.116352,
     "end_time": "2021-06-30T23:40:54.732110",
     "exception": false,
     "start_time": "2021-06-30T23:40:54.615758",
     "status": "completed"
    },
    "tags": []
   },
   "outputs": [
    {
     "data": {
      "text/html": [
       "<div>\n",
       "<style scoped>\n",
       "    .dataframe tbody tr th:only-of-type {\n",
       "        vertical-align: middle;\n",
       "    }\n",
       "\n",
       "    .dataframe tbody tr th {\n",
       "        vertical-align: top;\n",
       "    }\n",
       "\n",
       "    .dataframe thead th {\n",
       "        text-align: right;\n",
       "    }\n",
       "</style>\n",
       "<table border=\"1\" class=\"dataframe\">\n",
       "  <thead>\n",
       "    <tr style=\"text-align: right;\">\n",
       "      <th></th>\n",
       "      <th>age</th>\n",
       "      <th>sex</th>\n",
       "      <th>bmi</th>\n",
       "      <th>children</th>\n",
       "      <th>smoker</th>\n",
       "      <th>region</th>\n",
       "      <th>charges</th>\n",
       "    </tr>\n",
       "  </thead>\n",
       "  <tbody>\n",
       "    <tr>\n",
       "      <th>0</th>\n",
       "      <td>19</td>\n",
       "      <td>female</td>\n",
       "      <td>27.900</td>\n",
       "      <td>0</td>\n",
       "      <td>yes</td>\n",
       "      <td>southwest</td>\n",
       "      <td>16884.92400</td>\n",
       "    </tr>\n",
       "    <tr>\n",
       "      <th>1</th>\n",
       "      <td>18</td>\n",
       "      <td>male</td>\n",
       "      <td>33.770</td>\n",
       "      <td>1</td>\n",
       "      <td>no</td>\n",
       "      <td>southeast</td>\n",
       "      <td>1725.55230</td>\n",
       "    </tr>\n",
       "    <tr>\n",
       "      <th>2</th>\n",
       "      <td>28</td>\n",
       "      <td>male</td>\n",
       "      <td>33.000</td>\n",
       "      <td>3</td>\n",
       "      <td>no</td>\n",
       "      <td>southeast</td>\n",
       "      <td>4449.46200</td>\n",
       "    </tr>\n",
       "    <tr>\n",
       "      <th>3</th>\n",
       "      <td>33</td>\n",
       "      <td>male</td>\n",
       "      <td>22.705</td>\n",
       "      <td>0</td>\n",
       "      <td>no</td>\n",
       "      <td>northwest</td>\n",
       "      <td>21984.47061</td>\n",
       "    </tr>\n",
       "    <tr>\n",
       "      <th>4</th>\n",
       "      <td>32</td>\n",
       "      <td>male</td>\n",
       "      <td>28.880</td>\n",
       "      <td>0</td>\n",
       "      <td>no</td>\n",
       "      <td>northwest</td>\n",
       "      <td>3866.85520</td>\n",
       "    </tr>\n",
       "  </tbody>\n",
       "</table>\n",
       "</div>"
      ],
      "text/plain": [
       "   age     sex     bmi  children smoker     region      charges\n",
       "0   19  female  27.900         0    yes  southwest  16884.92400\n",
       "1   18    male  33.770         1     no  southeast   1725.55230\n",
       "2   28    male  33.000         3     no  southeast   4449.46200\n",
       "3   33    male  22.705         0     no  northwest  21984.47061\n",
       "4   32    male  28.880         0     no  northwest   3866.85520"
      ]
     },
     "execution_count": 3,
     "metadata": {},
     "output_type": "execute_result"
    }
   ],
   "source": [
    "# inspect data, print top 5 \n",
    "insured.head(5)"
   ]
  },
  {
   "cell_type": "code",
   "execution_count": 4,
   "id": "capital-example",
   "metadata": {
    "execution": {
     "iopub.execute_input": "2021-06-30T23:40:54.894070Z",
     "iopub.status.busy": "2021-06-30T23:40:54.893149Z",
     "iopub.status.idle": "2021-06-30T23:40:54.906245Z",
     "shell.execute_reply": "2021-06-30T23:40:54.906835Z"
    },
    "papermill": {
     "duration": 0.088701,
     "end_time": "2021-06-30T23:40:54.906994",
     "exception": false,
     "start_time": "2021-06-30T23:40:54.818293",
     "status": "completed"
    },
    "tags": []
   },
   "outputs": [
    {
     "data": {
      "text/html": [
       "<div>\n",
       "<style scoped>\n",
       "    .dataframe tbody tr th:only-of-type {\n",
       "        vertical-align: middle;\n",
       "    }\n",
       "\n",
       "    .dataframe tbody tr th {\n",
       "        vertical-align: top;\n",
       "    }\n",
       "\n",
       "    .dataframe thead th {\n",
       "        text-align: right;\n",
       "    }\n",
       "</style>\n",
       "<table border=\"1\" class=\"dataframe\">\n",
       "  <thead>\n",
       "    <tr style=\"text-align: right;\">\n",
       "      <th></th>\n",
       "      <th>age</th>\n",
       "      <th>sex</th>\n",
       "      <th>bmi</th>\n",
       "      <th>children</th>\n",
       "      <th>smoker</th>\n",
       "      <th>region</th>\n",
       "      <th>charges</th>\n",
       "    </tr>\n",
       "  </thead>\n",
       "  <tbody>\n",
       "    <tr>\n",
       "      <th>1333</th>\n",
       "      <td>50</td>\n",
       "      <td>male</td>\n",
       "      <td>30.97</td>\n",
       "      <td>3</td>\n",
       "      <td>no</td>\n",
       "      <td>northwest</td>\n",
       "      <td>10600.5483</td>\n",
       "    </tr>\n",
       "    <tr>\n",
       "      <th>1334</th>\n",
       "      <td>18</td>\n",
       "      <td>female</td>\n",
       "      <td>31.92</td>\n",
       "      <td>0</td>\n",
       "      <td>no</td>\n",
       "      <td>northeast</td>\n",
       "      <td>2205.9808</td>\n",
       "    </tr>\n",
       "    <tr>\n",
       "      <th>1335</th>\n",
       "      <td>18</td>\n",
       "      <td>female</td>\n",
       "      <td>36.85</td>\n",
       "      <td>0</td>\n",
       "      <td>no</td>\n",
       "      <td>southeast</td>\n",
       "      <td>1629.8335</td>\n",
       "    </tr>\n",
       "    <tr>\n",
       "      <th>1336</th>\n",
       "      <td>21</td>\n",
       "      <td>female</td>\n",
       "      <td>25.80</td>\n",
       "      <td>0</td>\n",
       "      <td>no</td>\n",
       "      <td>southwest</td>\n",
       "      <td>2007.9450</td>\n",
       "    </tr>\n",
       "    <tr>\n",
       "      <th>1337</th>\n",
       "      <td>61</td>\n",
       "      <td>female</td>\n",
       "      <td>29.07</td>\n",
       "      <td>0</td>\n",
       "      <td>yes</td>\n",
       "      <td>northwest</td>\n",
       "      <td>29141.3603</td>\n",
       "    </tr>\n",
       "  </tbody>\n",
       "</table>\n",
       "</div>"
      ],
      "text/plain": [
       "      age     sex    bmi  children smoker     region     charges\n",
       "1333   50    male  30.97         3     no  northwest  10600.5483\n",
       "1334   18  female  31.92         0     no  northeast   2205.9808\n",
       "1335   18  female  36.85         0     no  southeast   1629.8335\n",
       "1336   21  female  25.80         0     no  southwest   2007.9450\n",
       "1337   61  female  29.07         0    yes  northwest  29141.3603"
      ]
     },
     "execution_count": 4,
     "metadata": {},
     "output_type": "execute_result"
    }
   ],
   "source": [
    "# bottom 5 rows:\n",
    "insured.tail(5)"
   ]
  },
  {
   "cell_type": "code",
   "execution_count": 5,
   "id": "spiritual-ireland",
   "metadata": {
    "execution": {
     "iopub.execute_input": "2021-06-30T23:40:55.070175Z",
     "iopub.status.busy": "2021-06-30T23:40:55.068609Z",
     "iopub.status.idle": "2021-06-30T23:40:55.091541Z",
     "shell.execute_reply": "2021-06-30T23:40:55.092298Z"
    },
    "papermill": {
     "duration": 0.116212,
     "end_time": "2021-06-30T23:40:55.092513",
     "exception": false,
     "start_time": "2021-06-30T23:40:54.976301",
     "status": "completed"
    },
    "tags": []
   },
   "outputs": [
    {
     "name": "stdout",
     "output_type": "stream",
     "text": [
      "Rows     :  1338\n",
      "Columns  :  7\n",
      "\n",
      "Features : \n",
      " ['age', 'sex', 'bmi', 'children', 'smoker', 'region', 'charges']\n",
      "\n",
      "Missing values :   0\n",
      "\n",
      "Unique values :  \n",
      " age           47\n",
      "sex            2\n",
      "bmi          548\n",
      "children       6\n",
      "smoker         2\n",
      "region         4\n",
      "charges     1337\n",
      "dtype: int64\n"
     ]
    }
   ],
   "source": [
    "#get the size of dataframe\n",
    "print (\"Rows     : \" , insured.shape[0])\n",
    "print (\"Columns  : \" , insured.shape[1])\n",
    "print (\"\\nFeatures : \\n\", insured.columns.tolist())\n",
    "print (\"\\nMissing values :  \", insured.isnull().sum().values.sum())\n",
    "print (\"\\nUnique values :  \\n\", insured.nunique())\n"
   ]
  },
  {
   "cell_type": "code",
   "execution_count": 6,
   "id": "interpreted-hobby",
   "metadata": {
    "execution": {
     "iopub.execute_input": "2021-06-30T23:40:55.236655Z",
     "iopub.status.busy": "2021-06-30T23:40:55.235658Z",
     "iopub.status.idle": "2021-06-30T23:40:55.253629Z",
     "shell.execute_reply": "2021-06-30T23:40:55.254386Z"
    },
    "papermill": {
     "duration": 0.091553,
     "end_time": "2021-06-30T23:40:55.254603",
     "exception": false,
     "start_time": "2021-06-30T23:40:55.163050",
     "status": "completed"
    },
    "tags": []
   },
   "outputs": [
    {
     "name": "stdout",
     "output_type": "stream",
     "text": [
      "<class 'pandas.core.frame.DataFrame'>\n",
      "RangeIndex: 1338 entries, 0 to 1337\n",
      "Data columns (total 7 columns):\n",
      " #   Column    Non-Null Count  Dtype  \n",
      "---  ------    --------------  -----  \n",
      " 0   age       1338 non-null   int64  \n",
      " 1   sex       1338 non-null   object \n",
      " 2   bmi       1338 non-null   float64\n",
      " 3   children  1338 non-null   int64  \n",
      " 4   smoker    1338 non-null   object \n",
      " 5   region    1338 non-null   object \n",
      " 6   charges   1338 non-null   float64\n",
      "dtypes: float64(2), int64(2), object(3)\n",
      "memory usage: 73.3+ KB\n"
     ]
    }
   ],
   "source": [
    "insured.info()"
   ]
  },
  {
   "cell_type": "markdown",
   "id": "incident-membership",
   "metadata": {
    "papermill": {
     "duration": 0.070965,
     "end_time": "2021-06-30T23:40:55.395893",
     "exception": false,
     "start_time": "2021-06-30T23:40:55.324928",
     "status": "completed"
    },
    "tags": []
   },
   "source": [
    "**Types of variables**\n",
    "\n",
    "- Categorical varibles - sex,smoker,region,children\n",
    "-  Quantitative variables -age,bmi,charges. Here children is a discrete variable where as age, bmi, and charges are continous variables.\n",
    "\n",
    "- There are no missing values"
   ]
  },
  {
   "cell_type": "code",
   "execution_count": 7,
   "id": "configured-coalition",
   "metadata": {
    "execution": {
     "iopub.execute_input": "2021-06-30T23:40:55.538887Z",
     "iopub.status.busy": "2021-06-30T23:40:55.538278Z",
     "iopub.status.idle": "2021-06-30T23:40:55.545334Z",
     "shell.execute_reply": "2021-06-30T23:40:55.545824Z"
    },
    "papermill": {
     "duration": 0.080478,
     "end_time": "2021-06-30T23:40:55.545998",
     "exception": false,
     "start_time": "2021-06-30T23:40:55.465520",
     "status": "completed"
    },
    "tags": []
   },
   "outputs": [],
   "source": [
    "#changing object dtype to category  to save memory\n",
    "insured.sex=insured['sex'].astype(\"category\")\n",
    "insured.smoker=insured['smoker'].astype(\"category\")\n",
    "insured.region=insured['region'].astype(\"category\")\n"
   ]
  },
  {
   "cell_type": "code",
   "execution_count": 8,
   "id": "scheduled-mistake",
   "metadata": {
    "execution": {
     "iopub.execute_input": "2021-06-30T23:40:55.688491Z",
     "iopub.status.busy": "2021-06-30T23:40:55.687838Z",
     "iopub.status.idle": "2021-06-30T23:40:55.706606Z",
     "shell.execute_reply": "2021-06-30T23:40:55.707179Z"
    },
    "papermill": {
     "duration": 0.091978,
     "end_time": "2021-06-30T23:40:55.707372",
     "exception": false,
     "start_time": "2021-06-30T23:40:55.615394",
     "status": "completed"
    },
    "tags": []
   },
   "outputs": [
    {
     "name": "stdout",
     "output_type": "stream",
     "text": [
      "<class 'pandas.core.frame.DataFrame'>\n",
      "RangeIndex: 1338 entries, 0 to 1337\n",
      "Data columns (total 7 columns):\n",
      " #   Column    Non-Null Count  Dtype   \n",
      "---  ------    --------------  -----   \n",
      " 0   age       1338 non-null   int64   \n",
      " 1   sex       1338 non-null   category\n",
      " 2   bmi       1338 non-null   float64 \n",
      " 3   children  1338 non-null   int64   \n",
      " 4   smoker    1338 non-null   category\n",
      " 5   region    1338 non-null   category\n",
      " 6   charges   1338 non-null   float64 \n",
      "dtypes: category(3), float64(2), int64(2)\n",
      "memory usage: 46.3 KB\n"
     ]
    }
   ],
   "source": [
    "insured.info()"
   ]
  },
  {
   "cell_type": "code",
   "execution_count": 9,
   "id": "sonic-minister",
   "metadata": {
    "execution": {
     "iopub.execute_input": "2021-06-30T23:40:55.858034Z",
     "iopub.status.busy": "2021-06-30T23:40:55.852041Z",
     "iopub.status.idle": "2021-06-30T23:40:55.876287Z",
     "shell.execute_reply": "2021-06-30T23:40:55.876800Z"
    },
    "papermill": {
     "duration": 0.098789,
     "end_time": "2021-06-30T23:40:55.876964",
     "exception": false,
     "start_time": "2021-06-30T23:40:55.778175",
     "status": "completed"
    },
    "tags": []
   },
   "outputs": [
    {
     "data": {
      "text/html": [
       "<div>\n",
       "<style scoped>\n",
       "    .dataframe tbody tr th:only-of-type {\n",
       "        vertical-align: middle;\n",
       "    }\n",
       "\n",
       "    .dataframe tbody tr th {\n",
       "        vertical-align: top;\n",
       "    }\n",
       "\n",
       "    .dataframe thead th {\n",
       "        text-align: right;\n",
       "    }\n",
       "</style>\n",
       "<table border=\"1\" class=\"dataframe\">\n",
       "  <thead>\n",
       "    <tr style=\"text-align: right;\">\n",
       "      <th></th>\n",
       "      <th>age</th>\n",
       "      <th>bmi</th>\n",
       "      <th>children</th>\n",
       "      <th>charges</th>\n",
       "    </tr>\n",
       "  </thead>\n",
       "  <tbody>\n",
       "    <tr>\n",
       "      <th>count</th>\n",
       "      <td>1338.000000</td>\n",
       "      <td>1338.000000</td>\n",
       "      <td>1338.000000</td>\n",
       "      <td>1338.000000</td>\n",
       "    </tr>\n",
       "    <tr>\n",
       "      <th>mean</th>\n",
       "      <td>39.207025</td>\n",
       "      <td>30.663397</td>\n",
       "      <td>1.094918</td>\n",
       "      <td>13270.422265</td>\n",
       "    </tr>\n",
       "    <tr>\n",
       "      <th>std</th>\n",
       "      <td>14.049960</td>\n",
       "      <td>6.098187</td>\n",
       "      <td>1.205493</td>\n",
       "      <td>12110.011237</td>\n",
       "    </tr>\n",
       "    <tr>\n",
       "      <th>min</th>\n",
       "      <td>18.000000</td>\n",
       "      <td>15.960000</td>\n",
       "      <td>0.000000</td>\n",
       "      <td>1121.873900</td>\n",
       "    </tr>\n",
       "    <tr>\n",
       "      <th>25%</th>\n",
       "      <td>27.000000</td>\n",
       "      <td>26.296250</td>\n",
       "      <td>0.000000</td>\n",
       "      <td>4740.287150</td>\n",
       "    </tr>\n",
       "    <tr>\n",
       "      <th>50%</th>\n",
       "      <td>39.000000</td>\n",
       "      <td>30.400000</td>\n",
       "      <td>1.000000</td>\n",
       "      <td>9382.033000</td>\n",
       "    </tr>\n",
       "    <tr>\n",
       "      <th>75%</th>\n",
       "      <td>51.000000</td>\n",
       "      <td>34.693750</td>\n",
       "      <td>2.000000</td>\n",
       "      <td>16639.912515</td>\n",
       "    </tr>\n",
       "    <tr>\n",
       "      <th>max</th>\n",
       "      <td>64.000000</td>\n",
       "      <td>53.130000</td>\n",
       "      <td>5.000000</td>\n",
       "      <td>63770.428010</td>\n",
       "    </tr>\n",
       "  </tbody>\n",
       "</table>\n",
       "</div>"
      ],
      "text/plain": [
       "               age          bmi     children       charges\n",
       "count  1338.000000  1338.000000  1338.000000   1338.000000\n",
       "mean     39.207025    30.663397     1.094918  13270.422265\n",
       "std      14.049960     6.098187     1.205493  12110.011237\n",
       "min      18.000000    15.960000     0.000000   1121.873900\n",
       "25%      27.000000    26.296250     0.000000   4740.287150\n",
       "50%      39.000000    30.400000     1.000000   9382.033000\n",
       "75%      51.000000    34.693750     2.000000  16639.912515\n",
       "max      64.000000    53.130000     5.000000  63770.428010"
      ]
     },
     "execution_count": 9,
     "metadata": {},
     "output_type": "execute_result"
    }
   ],
   "source": [
    "insured.describe()"
   ]
  },
  {
   "cell_type": "markdown",
   "id": "defensive-cooling",
   "metadata": {
    "papermill": {
     "duration": 0.071203,
     "end_time": "2021-06-30T23:40:56.018655",
     "exception": false,
     "start_time": "2021-06-30T23:40:55.947452",
     "status": "completed"
    },
    "tags": []
   },
   "source": [
    "**Observations**\n",
    " - Average age of the primary beneficiary is 39.2 and maximum age is 64.\n",
    " - Average BMI is 30.66, that is out of normal BMI range, Maximum BMI is 53.13\n",
    " - Average medical costs billed to health insurance is 13270, median is 9382 and maximum is 63770\n",
    " - Median is less than mean in charges , indicating distrubution is postively skewed .\n",
    " - Customer on an average has 1 child.\n",
    " - For Age, BMI, children , mean is almost equal to median , suggesting data is normally distrubuted \n",
    " \n",
    "    "
   ]
  },
  {
   "cell_type": "code",
   "execution_count": 10,
   "id": "formal-daisy",
   "metadata": {
    "execution": {
     "iopub.execute_input": "2021-06-30T23:40:56.164569Z",
     "iopub.status.busy": "2021-06-30T23:40:56.163921Z",
     "iopub.status.idle": "2021-06-30T23:40:56.198746Z",
     "shell.execute_reply": "2021-06-30T23:40:56.198233Z"
    },
    "papermill": {
     "duration": 0.109237,
     "end_time": "2021-06-30T23:40:56.198892",
     "exception": false,
     "start_time": "2021-06-30T23:40:56.089655",
     "status": "completed"
    },
    "tags": []
   },
   "outputs": [
    {
     "data": {
      "text/html": [
       "<div>\n",
       "<style scoped>\n",
       "    .dataframe tbody tr th:only-of-type {\n",
       "        vertical-align: middle;\n",
       "    }\n",
       "\n",
       "    .dataframe tbody tr th {\n",
       "        vertical-align: top;\n",
       "    }\n",
       "\n",
       "    .dataframe thead th {\n",
       "        text-align: right;\n",
       "    }\n",
       "</style>\n",
       "<table border=\"1\" class=\"dataframe\">\n",
       "  <thead>\n",
       "    <tr style=\"text-align: right;\">\n",
       "      <th></th>\n",
       "      <th>sex</th>\n",
       "      <th>smoker</th>\n",
       "      <th>region</th>\n",
       "    </tr>\n",
       "  </thead>\n",
       "  <tbody>\n",
       "    <tr>\n",
       "      <th>count</th>\n",
       "      <td>1338</td>\n",
       "      <td>1338</td>\n",
       "      <td>1338</td>\n",
       "    </tr>\n",
       "    <tr>\n",
       "      <th>unique</th>\n",
       "      <td>2</td>\n",
       "      <td>2</td>\n",
       "      <td>4</td>\n",
       "    </tr>\n",
       "    <tr>\n",
       "      <th>top</th>\n",
       "      <td>male</td>\n",
       "      <td>no</td>\n",
       "      <td>southeast</td>\n",
       "    </tr>\n",
       "    <tr>\n",
       "      <th>freq</th>\n",
       "      <td>676</td>\n",
       "      <td>1064</td>\n",
       "      <td>364</td>\n",
       "    </tr>\n",
       "  </tbody>\n",
       "</table>\n",
       "</div>"
      ],
      "text/plain": [
       "         sex smoker     region\n",
       "count   1338   1338       1338\n",
       "unique     2      2          4\n",
       "top     male     no  southeast\n",
       "freq     676   1064        364"
      ]
     },
     "execution_count": 10,
     "metadata": {},
     "output_type": "execute_result"
    }
   ],
   "source": [
    "#Are there more Male beneficary ?\n",
    "# Are there more smoker ?\n",
    "# which region has maximum , claims .?\n",
    "\n",
    "insured.describe(include='category')"
   ]
  },
  {
   "cell_type": "code",
   "execution_count": 11,
   "id": "hollow-auckland",
   "metadata": {
    "execution": {
     "iopub.execute_input": "2021-06-30T23:40:56.351782Z",
     "iopub.status.busy": "2021-06-30T23:40:56.351134Z",
     "iopub.status.idle": "2021-06-30T23:40:56.358041Z",
     "shell.execute_reply": "2021-06-30T23:40:56.357340Z"
    },
    "papermill": {
     "duration": 0.088014,
     "end_time": "2021-06-30T23:40:56.358176",
     "exception": false,
     "start_time": "2021-06-30T23:40:56.270162",
     "status": "completed"
    },
    "tags": []
   },
   "outputs": [
    {
     "name": "stdout",
     "output_type": "stream",
     "text": [
      "male      676\n",
      "female    662\n",
      "Name: sex, dtype: int64\n",
      "no     1064\n",
      "yes     274\n",
      "Name: smoker, dtype: int64\n",
      "southeast    364\n",
      "northwest    325\n",
      "southwest    325\n",
      "northeast    324\n",
      "Name: region, dtype: int64\n"
     ]
    }
   ],
   "source": [
    "# get counts of unique observations for each category variable\n",
    "list_col=  insured.select_dtypes(['category']).columns\n",
    "for i in range(len(list_col)):\n",
    "    print(insured[list_col[i]].value_counts())\n"
   ]
  },
  {
   "cell_type": "markdown",
   "id": "powered-setting",
   "metadata": {
    "papermill": {
     "duration": 0.085446,
     "end_time": "2021-06-30T23:40:56.525833",
     "exception": false,
     "start_time": "2021-06-30T23:40:56.440387",
     "status": "completed"
    },
    "tags": []
   },
   "source": [
    "**Observations**\n",
    " - 676 male and 662 female, indicated sample has  slightly more males than females. \n",
    " - 1064 nonsomker and 274 smoker, indicating sample has more nonsmokers.\n",
    " - Number of  claims from customer who reside in southwest region is more compared to other regions\n"
   ]
  },
  {
   "cell_type": "markdown",
   "id": "hungry-australia",
   "metadata": {
    "papermill": {
     "duration": 0.071389,
     "end_time": "2021-06-30T23:40:56.668863",
     "exception": false,
     "start_time": "2021-06-30T23:40:56.597474",
     "status": "completed"
    },
    "tags": []
   },
   "source": [
    " <a id='eda'></a>\n",
    "  <h2 style=\"background-color: steelblue; \n",
    "    color: white; \n",
    "    padding: 8px; \n",
    "    padding-right: 300px; \n",
    "    font-size: 24px; \n",
    "    font-family:Garamond \n",
    "    max-width: 1500px; \n",
    "    margin-top: 50px;\n",
    "    margin-bottom:4px;\">Exploratory Data Analysis</h2>"
   ]
  },
  {
   "cell_type": "markdown",
   "id": "rough-accessory",
   "metadata": {
    "papermill": {
     "duration": 0.07138,
     "end_time": "2021-06-30T23:40:56.811971",
     "exception": false,
     "start_time": "2021-06-30T23:40:56.740591",
     "status": "completed"
    },
    "tags": []
   },
   "source": [
    "## Univariate Analysis"
   ]
  },
  {
   "cell_type": "code",
   "execution_count": 12,
   "id": "single-gateway",
   "metadata": {
    "execution": {
     "iopub.execute_input": "2021-06-30T23:40:56.966626Z",
     "iopub.status.busy": "2021-06-30T23:40:56.965602Z",
     "iopub.status.idle": "2021-06-30T23:40:56.968625Z",
     "shell.execute_reply": "2021-06-30T23:40:56.968126Z"
    },
    "papermill": {
     "duration": 0.084499,
     "end_time": "2021-06-30T23:40:56.968758",
     "exception": false,
     "start_time": "2021-06-30T23:40:56.884259",
     "status": "completed"
    },
    "tags": []
   },
   "outputs": [],
   "source": [
    "def dist_box(data):\n",
    " # function plots a combined graph for univariate analysis of continous variable \n",
    " #to check spread, central tendency , dispersion and outliers  \n",
    "    Name=data.name.upper()\n",
    "    fig,(ax_box,ax_dis)  =plt.subplots(2,1,gridspec_kw = {\"height_ratios\": (.25, .75)},figsize=(8, 5))\n",
    "    mean=data.mean()\n",
    "    median=data.median()\n",
    "    mode=data.mode().tolist()[0]\n",
    "    fig.suptitle(\"SPREAD OF DATA FOR \"+ Name  , fontsize=18, fontweight='bold')\n",
    "    sns.boxplot(x=data,showmeans=True, orient='h',color=\"violet\",ax=ax_box)\n",
    "    ax_box.set(xlabel='')\n",
    "    sns.distplot(data,kde=False,color='blue',ax=ax_dis)\n",
    "    ax_dis.axvline(mean, color='r', linestyle='--',linewidth=2)\n",
    "    ax_dis.axvline(median, color='g', linestyle='-',linewidth=2)\n",
    "    ax_dis.axvline(mode, color='y', linestyle='-',linewidth=2)\n",
    "    plt.legend({'Mean':mean,'Median':median,'Mode':mode})\n",
    "   "
   ]
  },
  {
   "cell_type": "code",
   "execution_count": 13,
   "id": "southern-metabolism",
   "metadata": {
    "execution": {
     "iopub.execute_input": "2021-06-30T23:40:57.135893Z",
     "iopub.status.busy": "2021-06-30T23:40:57.127264Z",
     "iopub.status.idle": "2021-06-30T23:40:58.714694Z",
     "shell.execute_reply": "2021-06-30T23:40:58.715176Z"
    },
    "papermill": {
     "duration": 1.675013,
     "end_time": "2021-06-30T23:40:58.715340",
     "exception": false,
     "start_time": "2021-06-30T23:40:57.040327",
     "status": "completed"
    },
    "tags": []
   },
   "outputs": [
    {
     "data": {
      "image/png": "[encoded data removed]",
      "text/plain": [
       "<Figure size 576x360 with 2 Axes>"
      ]
     },
     "metadata": {},
     "output_type": "display_data"
    },
    {
     "data": {
      "image/png": "[encoded data removed]",
      "text/plain": [
       "<Figure size 576x360 with 2 Axes>"
      ]
     },
     "metadata": {},
     "output_type": "display_data"
    },
    {
     "data": {
      "image/png": "[encoded data removed]",
      "text/plain": [
       "<Figure size 576x360 with 2 Axes>"
      ]
     },
     "metadata": {},
     "output_type": "display_data"
    },
    {
     "data": {
      "image/png": "[encoded data removed]",
      "text/plain": [
       "<Figure size 576x360 with 2 Axes>"
      ]
     },
     "metadata": {},
     "output_type": "display_data"
    }
   ],
   "source": [
    "#select all quantitative columns for checking the spread\n",
    "list_col=  insured.select_dtypes([np.number]).columns\n",
    "for i in range(len(list_col)):\n",
    "    dist_box(insured[list_col[i]])\n",
    "    "
   ]
  },
  {
   "cell_type": "markdown",
   "id": "collectible-operation",
   "metadata": {
    "papermill": {
     "duration": 0.074753,
     "end_time": "2021-06-30T23:40:58.865895",
     "exception": false,
     "start_time": "2021-06-30T23:40:58.791142",
     "status": "completed"
    },
    "tags": []
   },
   "source": [
    "**Observations**\n",
    "- Age of primary beneficary lies approximately between 20 - 65 . Average Age is aprrox. 40. Majority of customer are in range 18- 20's.\n",
    "- Bmi is normally distrubuted and Average BMI of beneficiary is 30.This BMI is outside the normal range of BMI. There are lot of outliers at upper end\n",
    "- Most of the beneficary have no childrens.\n",
    "- Charges distrubution is unimodal and is right skewed .Average cost incured to the insurance is appro. 130000 and highest charge is 63770.There are lot of outliers at upper end."
   ]
  },
  {
   "cell_type": "code",
   "execution_count": 14,
   "id": "bored-great",
   "metadata": {
    "execution": {
     "iopub.execute_input": "2021-06-30T23:40:59.022878Z",
     "iopub.status.busy": "2021-06-30T23:40:59.022233Z",
     "iopub.status.idle": "2021-06-30T23:40:59.027661Z",
     "shell.execute_reply": "2021-06-30T23:40:59.028084Z"
    },
    "papermill": {
     "duration": 0.085268,
     "end_time": "2021-06-30T23:40:59.028244",
     "exception": false,
     "start_time": "2021-06-30T23:40:58.942976",
     "status": "completed"
    },
    "tags": []
   },
   "outputs": [],
   "source": [
    "# Function to create barplots that indicate percentage for each category.\n",
    "def bar_perc(plot, feature):\n",
    "    total = len(feature) # length of the column\n",
    "    for p in plot.patches:\n",
    "        percentage = '{:.1f}%'.format(100 * p.get_height()/total) # percentage of each class of the category\n",
    "        x = p.get_x() + p.get_width() / 2 - 0.05 # width of the plot\n",
    "        y = p.get_y() + p.get_height()           # hieght of the plot\n",
    "        plot.annotate(percentage, (x, y), size = 12) # annotate the percentage\n",
    "    "
   ]
  },
  {
   "cell_type": "code",
   "execution_count": 15,
   "id": "standard-general",
   "metadata": {
    "execution": {
     "iopub.execute_input": "2021-06-30T23:40:59.183557Z",
     "iopub.status.busy": "2021-06-30T23:40:59.182912Z",
     "iopub.status.idle": "2021-06-30T23:40:59.589891Z",
     "shell.execute_reply": "2021-06-30T23:40:59.590342Z"
    },
    "papermill": {
     "duration": 0.486657,
     "end_time": "2021-06-30T23:40:59.590540",
     "exception": false,
     "start_time": "2021-06-30T23:40:59.103883",
     "status": "completed"
    },
    "tags": []
   },
   "outputs": [
    {
     "data": {
      "image/png": "[encoded data removed]",
      "text/plain": [
       "<Figure size 1008x360 with 3 Axes>"
      ]
     },
     "metadata": {},
     "output_type": "display_data"
    }
   ],
   "source": [
    "#get all category datatype \n",
    "list_col=  insured.select_dtypes(['category']).columns\n",
    "fig1, axes1 =plt.subplots(1,3,figsize=(14, 5))\n",
    "for i in range(len(list_col)):\n",
    "    order = insured[list_col[i]].value_counts(ascending=False).index # to display bar in ascending order\n",
    "    axis=sns.countplot(x=list_col[i], data=insured , order=order,ax=axes1[i],palette='viridis').set(title=list_col[i].upper())\n",
    "    bar_perc(axes1[i],insured[list_col[i]])"
   ]
  },
  {
   "cell_type": "markdown",
   "id": "prompt-essence",
   "metadata": {
    "papermill": {
     "duration": 0.076456,
     "end_time": "2021-06-30T23:40:59.743726",
     "exception": false,
     "start_time": "2021-06-30T23:40:59.667270",
     "status": "completed"
    },
    "tags": []
   },
   "source": [
    "**Observations**\n",
    " - 50.5% of beneficiary are male and 49.5 % are female. Approximately same number of male and female beneficiary.\n",
    " - 20.5% of beneficary are smokers.\n",
    " - Beneficary are evenly distributed across regions with South East being the most populous one (~27%) with the rest of regions each containing around ~24% \n",
    " - Most of the beneficiary don't have kid."
   ]
  },
  {
   "cell_type": "markdown",
   "id": "canadian-distinction",
   "metadata": {
    "papermill": {
     "duration": 0.077654,
     "end_time": "2021-06-30T23:40:59.898043",
     "exception": false,
     "start_time": "2021-06-30T23:40:59.820389",
     "status": "completed"
    },
    "tags": []
   },
   "source": [
    "## Bivariate & Multivariate Analysis"
   ]
  },
  {
   "cell_type": "code",
   "execution_count": 16,
   "id": "desirable-vacuum",
   "metadata": {
    "execution": {
     "iopub.execute_input": "2021-06-30T23:41:00.058698Z",
     "iopub.status.busy": "2021-06-30T23:41:00.058071Z",
     "iopub.status.idle": "2021-06-30T23:41:00.445402Z",
     "shell.execute_reply": "2021-06-30T23:41:00.445845Z"
    },
    "papermill": {
     "duration": 0.471009,
     "end_time": "2021-06-30T23:41:00.446015",
     "exception": false,
     "start_time": "2021-06-30T23:40:59.975006",
     "status": "completed"
    },
    "tags": []
   },
   "outputs": [
    {
     "data": {
      "image/png": "[encoded data removed]",
      "text/plain": [
       "<Figure size 1080x360 with 2 Axes>"
      ]
     },
     "metadata": {},
     "output_type": "display_data"
    }
   ],
   "source": [
    "plt.figure(figsize=(15,5))\n",
    "sns.heatmap(insured.corr(),annot=True ,cmap=\"YlGn\" )\n",
    "plt.show()"
   ]
  },
  {
   "cell_type": "code",
   "execution_count": 17,
   "id": "challenging-thinking",
   "metadata": {
    "execution": {
     "iopub.execute_input": "2021-06-30T23:41:00.605573Z",
     "iopub.status.busy": "2021-06-30T23:41:00.604980Z",
     "iopub.status.idle": "2021-06-30T23:41:00.615224Z",
     "shell.execute_reply": "2021-06-30T23:41:00.614678Z"
    },
    "papermill": {
     "duration": 0.090529,
     "end_time": "2021-06-30T23:41:00.615398",
     "exception": false,
     "start_time": "2021-06-30T23:41:00.524869",
     "status": "completed"
    },
    "tags": []
   },
   "outputs": [
    {
     "data": {
      "text/plain": [
       "Index(['sex', 'smoker', 'region'], dtype='object')"
      ]
     },
     "execution_count": 17,
     "metadata": {},
     "output_type": "execute_result"
    }
   ],
   "source": [
    "cat_columns=insured.select_dtypes(['category']).columns\n",
    "cat_columns\n"
   ]
  },
  {
   "cell_type": "markdown",
   "id": "norman-cowboy",
   "metadata": {
    "papermill": {
     "duration": 0.078223,
     "end_time": "2021-06-30T23:41:00.772282",
     "exception": false,
     "start_time": "2021-06-30T23:41:00.694059",
     "status": "completed"
    },
    "tags": []
   },
   "source": [
    "**Observation**\n",
    " - There is  very little significant correlation between charges &age and charges and bmi.\n"
   ]
  },
  {
   "cell_type": "code",
   "execution_count": 18,
   "id": "photographic-walnut",
   "metadata": {
    "execution": {
     "iopub.execute_input": "2021-06-30T23:41:00.934618Z",
     "iopub.status.busy": "2021-06-30T23:41:00.933899Z",
     "iopub.status.idle": "2021-06-30T23:41:03.245020Z",
     "shell.execute_reply": "2021-06-30T23:41:03.245568Z"
    },
    "papermill": {
     "duration": 2.394427,
     "end_time": "2021-06-30T23:41:03.245763",
     "exception": false,
     "start_time": "2021-06-30T23:41:00.851336",
     "status": "completed"
    },
    "tags": []
   },
   "outputs": [
    {
     "data": {
      "image/png": "[encoded data removed]",
      "text/plain": [
       "<Figure size 720x720 with 14 Axes>"
      ]
     },
     "metadata": {},
     "output_type": "display_data"
    }
   ],
   "source": [
    "sns.pairplot(data=insured , corner=True)\n",
    "plt.show()"
   ]
  },
  {
   "cell_type": "code",
   "execution_count": 19,
   "id": "blocked-diagnosis",
   "metadata": {
    "execution": {
     "iopub.execute_input": "2021-06-30T23:41:03.477139Z",
     "iopub.status.busy": "2021-06-30T23:41:03.469739Z",
     "iopub.status.idle": "2021-06-30T23:41:03.979158Z",
     "shell.execute_reply": "2021-06-30T23:41:03.978493Z"
    },
    "papermill": {
     "duration": 0.65092,
     "end_time": "2021-06-30T23:41:03.979322",
     "exception": false,
     "start_time": "2021-06-30T23:41:03.328402",
     "status": "completed"
    },
    "tags": []
   },
   "outputs": [
    {
     "data": {
      "image/png": "[encoded data removed]",
      "text/plain": [
       "<Figure size 1008x792 with 4 Axes>"
      ]
     },
     "metadata": {},
     "output_type": "display_data"
    }
   ],
   "source": [
    "#Sex vs all numerical variable\n",
    "fig1, axes1 =plt.subplots(2,2,figsize=(14, 11))\n",
    "#select all quantitative columns for checking the spread\n",
    "list_col=  insured.select_dtypes([np.number]).columns\n",
    "for i in range(len(list_col)):\n",
    "    row=i//2\n",
    "    col=i%2\n",
    "    ax=axes1[row,col]\n",
    "    sns.boxplot(y=insured[list_col[i]],x=insured['sex'],ax=ax,palette=\"PuBu\", orient='v').set(title='SEX VS '+ list_col[i].upper())\n",
    "    \n",
    "    "
   ]
  },
  {
   "cell_type": "markdown",
   "id": "million-placement",
   "metadata": {
    "papermill": {
     "duration": 0.084476,
     "end_time": "2021-06-30T23:41:04.147053",
     "exception": false,
     "start_time": "2021-06-30T23:41:04.062577",
     "status": "completed"
    },
    "tags": []
   },
   "source": [
    "**Observation**\n",
    " - Avergae Age of female beneficiary is slightly higher than male beneficiary\n",
    " - No of children both male and female beneficary have is same\n",
    " - BMI of Male policy holder has many outliers and Average BMI of male is slightly higher than female\n",
    " - Male policy holder has incure more charges to insurance compared to female policy holder. There are lot of outliers in female policy holder"
   ]
  },
  {
   "cell_type": "code",
   "execution_count": 20,
   "id": "short-murder",
   "metadata": {
    "execution": {
     "iopub.execute_input": "2021-06-30T23:41:04.459236Z",
     "iopub.status.busy": "2021-06-30T23:41:04.448085Z",
     "iopub.status.idle": "2021-06-30T23:41:04.986993Z",
     "shell.execute_reply": "2021-06-30T23:41:04.986406Z"
    },
    "papermill": {
     "duration": 0.756672,
     "end_time": "2021-06-30T23:41:04.987127",
     "exception": false,
     "start_time": "2021-06-30T23:41:04.230455",
     "status": "completed"
    },
    "tags": []
   },
   "outputs": [
    {
     "data": {
      "image/png": "[encoded data removed]",
      "text/plain": [
       "<Figure size 1008x792 with 4 Axes>"
      ]
     },
     "metadata": {},
     "output_type": "display_data"
    }
   ],
   "source": [
    "#smoker vs all numerical variables\n",
    "fig1, axes1 =plt.subplots(2,2,figsize=(14, 11))\n",
    "#select all quantitative columns for checking the spread\n",
    "list_col=  insured.select_dtypes([np.number]).columns\n",
    "for i in range(len(list_col)):\n",
    "    row=i//2\n",
    "    col=i%2\n",
    "    ax=axes1[row,col]\n",
    "    sns.boxplot(y=insured[list_col[i]],x=insured['smoker'],ax=ax,palette=\"PuBu\",orient='v').set(title='SMOKER VS '+ list_col[i].upper()  )\n",
    "    "
   ]
  },
  {
   "cell_type": "markdown",
   "id": "rapid-appearance",
   "metadata": {
    "papermill": {
     "duration": 0.086444,
     "end_time": "2021-06-30T23:41:05.159278",
     "exception": false,
     "start_time": "2021-06-30T23:41:05.072834",
     "status": "completed"
    },
    "tags": []
   },
   "source": [
    "**Observation**\n",
    "- Smoker have incured more cost to insurance than nonsmoker. There are outliers in nonsmoker , need to analyze.\n",
    "- BMI of non smoker has lot of outliers."
   ]
  },
  {
   "cell_type": "code",
   "execution_count": 21,
   "id": "elder-paper",
   "metadata": {
    "execution": {
     "iopub.execute_input": "2021-06-30T23:41:05.351870Z",
     "iopub.status.busy": "2021-06-30T23:41:05.340484Z",
     "iopub.status.idle": "2021-06-30T23:41:06.046204Z",
     "shell.execute_reply": "2021-06-30T23:41:06.046717Z"
    },
    "papermill": {
     "duration": 0.802962,
     "end_time": "2021-06-30T23:41:06.046895",
     "exception": false,
     "start_time": "2021-06-30T23:41:05.243933",
     "status": "completed"
    },
    "tags": []
   },
   "outputs": [
    {
     "data": {
      "image/png": "[encoded data removed]",
      "text/plain": [
       "<Figure size 1008x792 with 4 Axes>"
      ]
     },
     "metadata": {},
     "output_type": "display_data"
    }
   ],
   "source": [
    "#region vs all numerical variable\n",
    "fig1, axes1 =plt.subplots(2,2,figsize=(14, 11))\n",
    "#select all quantitative columns for checking the outliers\n",
    "list_col=  insured.select_dtypes([np.number]).columns\n",
    "for i in range(len(list_col)):\n",
    "    row=i//2\n",
    "    col=i%2\n",
    "    ax=axes1[row,col]\n",
    "    sns.boxplot(y=insured[list_col[i]],x=insured['region'],ax=ax,palette=\"PuBu\",orient='v').set(title='REGION VS '+ list_col[i].upper()  )\n",
    "    "
   ]
  },
  {
   "cell_type": "markdown",
   "id": "romantic-latitude",
   "metadata": {
    "papermill": {
     "duration": 0.086155,
     "end_time": "2021-06-30T23:41:06.220555",
     "exception": false,
     "start_time": "2021-06-30T23:41:06.134400",
     "status": "completed"
    },
    "tags": []
   },
   "source": [
    "**Observations**\n",
    " - Age  and numnber of children across regions is almost same.\n",
    " - Average Bmi of policy holder from southeast higher compared to other regions\n",
    " - Charges incured because of policy holder from southeast is higher compared to othe regions\n",
    " - There are lot of outliers on upper end in charges\n"
   ]
  },
  {
   "cell_type": "code",
   "execution_count": 22,
   "id": "brazilian-narrow",
   "metadata": {
    "execution": {
     "iopub.execute_input": "2021-06-30T23:41:06.413809Z",
     "iopub.status.busy": "2021-06-30T23:41:06.400780Z",
     "iopub.status.idle": "2021-06-30T23:41:06.579096Z",
     "shell.execute_reply": "2021-06-30T23:41:06.578551Z"
    },
    "papermill": {
     "duration": 0.272181,
     "end_time": "2021-06-30T23:41:06.579252",
     "exception": false,
     "start_time": "2021-06-30T23:41:06.307071",
     "status": "completed"
    },
    "scrolled": true,
    "tags": []
   },
   "outputs": [
    {
     "data": {
      "text/plain": [
       "[Text(0.5, 1.0, 'Smoker vs Sex')]"
      ]
     },
     "execution_count": 22,
     "metadata": {},
     "output_type": "execute_result"
    },
    {
     "data": {
      "image/png": "[encoded data removed]",
      "text/plain": [
       "<Figure size 936x360 with 1 Axes>"
      ]
     },
     "metadata": {},
     "output_type": "display_data"
    }
   ],
   "source": [
    "#smoker vs Sex\n",
    "plt.figure(figsize=(13,5))\n",
    "ax=sns.countplot(x='smoker',hue='sex',data=insured,palette='rainbow')\n",
    "bar_perc(ax,insured['sex'])\n",
    "ax.set(title=\"Smoker vs Sex\")"
   ]
  },
  {
   "cell_type": "code",
   "execution_count": 23,
   "id": "current-grade",
   "metadata": {
    "execution": {
     "iopub.execute_input": "2021-06-30T23:41:06.763646Z",
     "iopub.status.busy": "2021-06-30T23:41:06.761880Z",
     "iopub.status.idle": "2021-06-30T23:41:06.967247Z",
     "shell.execute_reply": "2021-06-30T23:41:06.967697Z"
    },
    "papermill": {
     "duration": 0.299696,
     "end_time": "2021-06-30T23:41:06.967873",
     "exception": false,
     "start_time": "2021-06-30T23:41:06.668177",
     "status": "completed"
    },
    "tags": []
   },
   "outputs": [
    {
     "data": {
      "text/plain": [
       "[Text(0.5, 1.0, 'Smoker vs Charges')]"
      ]
     },
     "execution_count": 23,
     "metadata": {},
     "output_type": "execute_result"
    },
    {
     "data": {
      "image/png": "[encoded data removed]",
      "text/plain": [
       "<Figure size 432x288 with 1 Axes>"
      ]
     },
     "metadata": {},
     "output_type": "display_data"
    }
   ],
   "source": [
    "#smoker vs charges\n",
    "sns.barplot(x=insured.smoker,y=insured.charges).set(title=\"Smoker vs Charges\")"
   ]
  },
  {
   "cell_type": "code",
   "execution_count": 24,
   "id": "proud-entrepreneur",
   "metadata": {
    "execution": {
     "iopub.execute_input": "2021-06-30T23:41:07.177527Z",
     "iopub.status.busy": "2021-06-30T23:41:07.154956Z",
     "iopub.status.idle": "2021-06-30T23:41:07.377036Z",
     "shell.execute_reply": "2021-06-30T23:41:07.376548Z"
    },
    "papermill": {
     "duration": 0.319735,
     "end_time": "2021-06-30T23:41:07.377173",
     "exception": false,
     "start_time": "2021-06-30T23:41:07.057438",
     "status": "completed"
    },
    "tags": []
   },
   "outputs": [
    {
     "data": {
      "text/plain": [
       "[Text(0.5, 1.0, 'Smoker vs Region')]"
      ]
     },
     "execution_count": 24,
     "metadata": {},
     "output_type": "execute_result"
    },
    {
     "data": {
      "image/png": "[encoded data removed]",
      "text/plain": [
       "<Figure size 936x360 with 1 Axes>"
      ]
     },
     "metadata": {},
     "output_type": "display_data"
    }
   ],
   "source": [
    "#region vs smoker\n",
    "plt.figure(figsize=(13,5))\n",
    "ax=sns.countplot(x='region',hue='smoker',data=insured)\n",
    "bar_perc(ax,insured['smoker'])\n",
    "ax.set(title=\"Smoker vs Region\")"
   ]
  },
  {
   "cell_type": "markdown",
   "id": "dominant-nickel",
   "metadata": {
    "papermill": {
     "duration": 0.097862,
     "end_time": "2021-06-30T23:41:07.585726",
     "exception": false,
     "start_time": "2021-06-30T23:41:07.487864",
     "status": "completed"
    },
    "tags": []
   },
   "source": [
    "**Observation**\n",
    "- There are more male smokers than female.\n",
    "- Southeast region has more smokers\n",
    "- Smoker have more costlier claims than nonsmoker."
   ]
  },
  {
   "cell_type": "code",
   "execution_count": 25,
   "id": "formal-filing",
   "metadata": {
    "execution": {
     "iopub.execute_input": "2021-06-30T23:41:07.777780Z",
     "iopub.status.busy": "2021-06-30T23:41:07.776782Z",
     "iopub.status.idle": "2021-06-30T23:41:08.013644Z",
     "shell.execute_reply": "2021-06-30T23:41:08.013059Z"
    },
    "papermill": {
     "duration": 0.335222,
     "end_time": "2021-06-30T23:41:08.013793",
     "exception": false,
     "start_time": "2021-06-30T23:41:07.678571",
     "status": "completed"
    },
    "tags": []
   },
   "outputs": [
    {
     "data": {
      "text/plain": [
       "[Text(0.5, 1.0, 'Sex vs Region')]"
      ]
     },
     "execution_count": 25,
     "metadata": {},
     "output_type": "execute_result"
    },
    {
     "data": {
      "image/png": "[encoded data removed]",
      "text/plain": [
       "<Figure size 936x360 with 1 Axes>"
      ]
     },
     "metadata": {},
     "output_type": "display_data"
    }
   ],
   "source": [
    "plt.figure(figsize=(13,5))\n",
    "ax=sns.countplot(x='region',hue='sex',data=insured,palette='spring')\n",
    "bar_perc(ax,insured['sex'])\n",
    "ax.set(title=\"Sex vs Region\")"
   ]
  },
  {
   "cell_type": "markdown",
   "id": "native-secret",
   "metadata": {
    "papermill": {
     "duration": 0.093256,
     "end_time": "2021-06-30T23:41:08.201076",
     "exception": false,
     "start_time": "2021-06-30T23:41:08.107820",
     "status": "completed"
    },
    "tags": []
   },
   "source": [
    "**Observations**\n",
    " - There are more smokers in southeast region compared to other regions."
   ]
  },
  {
   "cell_type": "code",
   "execution_count": 26,
   "id": "stopped-cursor",
   "metadata": {
    "execution": {
     "iopub.execute_input": "2021-06-30T23:41:08.394926Z",
     "iopub.status.busy": "2021-06-30T23:41:08.394264Z",
     "iopub.status.idle": "2021-06-30T23:41:08.398372Z",
     "shell.execute_reply": "2021-06-30T23:41:08.398829Z"
    },
    "papermill": {
     "duration": 0.105506,
     "end_time": "2021-06-30T23:41:08.398999",
     "exception": false,
     "start_time": "2021-06-30T23:41:08.293493",
     "status": "completed"
    },
    "tags": []
   },
   "outputs": [
    {
     "data": {
      "text/plain": [
       "sex\n",
       "female    12569.578844\n",
       "male      13956.751178\n",
       "Name: charges, dtype: float64"
      ]
     },
     "execution_count": 26,
     "metadata": {},
     "output_type": "execute_result"
    }
   ],
   "source": [
    "insured.groupby(insured.sex).charges.mean()"
   ]
  },
  {
   "cell_type": "code",
   "execution_count": 27,
   "id": "complete-campus",
   "metadata": {
    "execution": {
     "iopub.execute_input": "2021-06-30T23:41:08.590855Z",
     "iopub.status.busy": "2021-06-30T23:41:08.590162Z",
     "iopub.status.idle": "2021-06-30T23:41:08.967550Z",
     "shell.execute_reply": "2021-06-30T23:41:08.966990Z"
    },
    "papermill": {
     "duration": 0.475255,
     "end_time": "2021-06-30T23:41:08.967699",
     "exception": false,
     "start_time": "2021-06-30T23:41:08.492444",
     "status": "completed"
    },
    "tags": []
   },
   "outputs": [
    {
     "data": {
      "text/plain": [
       "[Text(0.5, 1.0, 'Children vs Charges')]"
      ]
     },
     "execution_count": 27,
     "metadata": {},
     "output_type": "execute_result"
    },
    {
     "data": {
      "image/png": "[encoded data removed]",
      "text/plain": [
       "<Figure size 432x288 with 1 Axes>"
      ]
     },
     "metadata": {},
     "output_type": "display_data"
    }
   ],
   "source": [
    "sns.barplot(x=insured.children,y=insured.charges).set(title=\"Children vs Charges\")"
   ]
  },
  {
   "cell_type": "code",
   "execution_count": 28,
   "id": "appropriate-nylon",
   "metadata": {
    "execution": {
     "iopub.execute_input": "2021-06-30T23:41:09.164875Z",
     "iopub.status.busy": "2021-06-30T23:41:09.164191Z",
     "iopub.status.idle": "2021-06-30T23:41:09.367612Z",
     "shell.execute_reply": "2021-06-30T23:41:09.367055Z"
    },
    "papermill": {
     "duration": 0.306041,
     "end_time": "2021-06-30T23:41:09.367747",
     "exception": false,
     "start_time": "2021-06-30T23:41:09.061706",
     "status": "completed"
    },
    "tags": []
   },
   "outputs": [
    {
     "data": {
      "text/plain": [
       "[Text(0.5, 1.0, 'Sex Vs Charges')]"
      ]
     },
     "execution_count": 28,
     "metadata": {},
     "output_type": "execute_result"
    },
    {
     "data": {
      "image/png": "[encoded data removed]",
      "text/plain": [
       "<Figure size 432x288 with 1 Axes>"
      ]
     },
     "metadata": {},
     "output_type": "display_data"
    }
   ],
   "source": [
    "sns.barplot(x=insured.sex,y=insured.charges).set(title='Sex Vs Charges')"
   ]
  },
  {
   "cell_type": "code",
   "execution_count": 29,
   "id": "emerging-consideration",
   "metadata": {
    "execution": {
     "iopub.execute_input": "2021-06-30T23:41:09.565696Z",
     "iopub.status.busy": "2021-06-30T23:41:09.564906Z",
     "iopub.status.idle": "2021-06-30T23:41:09.861064Z",
     "shell.execute_reply": "2021-06-30T23:41:09.860433Z"
    },
    "papermill": {
     "duration": 0.397623,
     "end_time": "2021-06-30T23:41:09.861198",
     "exception": false,
     "start_time": "2021-06-30T23:41:09.463575",
     "status": "completed"
    },
    "tags": []
   },
   "outputs": [
    {
     "data": {
      "text/plain": [
       "[Text(0.5, 1.0, 'Region Vs Charges')]"
      ]
     },
     "execution_count": 29,
     "metadata": {},
     "output_type": "execute_result"
    },
    {
     "data": {
      "image/png": "[encoded data removed]",
      "text/plain": [
       "<Figure size 432x288 with 1 Axes>"
      ]
     },
     "metadata": {},
     "output_type": "display_data"
    }
   ],
   "source": [
    "sns.barplot(x='region',y='charges',data=insured).set(title='Region Vs Charges')"
   ]
  },
  {
   "cell_type": "code",
   "execution_count": 30,
   "id": "cognitive-script",
   "metadata": {
    "execution": {
     "iopub.execute_input": "2021-06-30T23:41:10.068627Z",
     "iopub.status.busy": "2021-06-30T23:41:10.064901Z",
     "iopub.status.idle": "2021-06-30T23:41:13.124463Z",
     "shell.execute_reply": "2021-06-30T23:41:13.124943Z"
    },
    "papermill": {
     "duration": 3.165969,
     "end_time": "2021-06-30T23:41:13.125111",
     "exception": false,
     "start_time": "2021-06-30T23:41:09.959142",
     "status": "completed"
    },
    "scrolled": true,
    "tags": []
   },
   "outputs": [
    {
     "data": {
      "image/png": "[encoded data removed]",
      "text/plain": [
       "<Figure size 1080x504 with 1 Axes>"
      ]
     },
     "metadata": {},
     "output_type": "display_data"
    }
   ],
   "source": [
    "plt.figure(figsize=(15,7))\n",
    "sns.lineplot(insured[\"age\"],insured[\"charges\"],hue=insured[\"sex\"],ci=0).set(title= 'Cost incured by Age for Female and Males')\n",
    "plt.legend(bbox_to_anchor=(1.00, 1))\n",
    "plt.show()"
   ]
  },
  {
   "cell_type": "code",
   "execution_count": 31,
   "id": "incomplete-matrix",
   "metadata": {
    "execution": {
     "iopub.execute_input": "2021-06-30T23:41:13.339652Z",
     "iopub.status.busy": "2021-06-30T23:41:13.334658Z",
     "iopub.status.idle": "2021-06-30T23:41:13.529179Z",
     "shell.execute_reply": "2021-06-30T23:41:13.528660Z"
    },
    "papermill": {
     "duration": 0.304722,
     "end_time": "2021-06-30T23:41:13.529311",
     "exception": false,
     "start_time": "2021-06-30T23:41:13.224589",
     "status": "completed"
    },
    "tags": []
   },
   "outputs": [
    {
     "data": {
      "image/png": "[encoded data removed]",
      "text/plain": [
       "<Figure size 936x504 with 1 Axes>"
      ]
     },
     "metadata": {},
     "output_type": "display_data"
    }
   ],
   "source": [
    "df_smoker_char_sex=pd.crosstab(index=insured.smoker,columns=insured.sex , values=insured.charges,aggfunc='sum')\n",
    "fig1, axes1=plt.subplots(1,1,figsize=(13, 7))\n",
    "df_smoker_char_sex.plot(kind='bar',ax=axes1,title=\"Smoker Vs Charges for Males and Females\")\n",
    "plt.legend(loc='upper left')\n",
    "plt.show()"
   ]
  },
  {
   "cell_type": "markdown",
   "id": "contrary-russian",
   "metadata": {
    "papermill": {
     "duration": 0.101081,
     "end_time": "2021-06-30T23:41:13.730640",
     "exception": false,
     "start_time": "2021-06-30T23:41:13.629559",
     "status": "completed"
    },
    "tags": []
   },
   "source": [
    "**Observations**\n",
    " - Charges incurred for males are more than charges incured for females\n",
    " - With increasing age of policy holder charges incured are going high for both male and female.\n",
    " - There some spikes for female at an approximate ages of 23,28,43.\n",
    " - Most claims are from southeast regions.\n",
    " - Males who smoke have most claims and have higher bills \n",
    " - Number of claims made by female who dont smoke is more compared to female who smoke.\n",
    " \n",
    " \n"
   ]
  },
  {
   "cell_type": "code",
   "execution_count": 32,
   "id": "vietnamese-score",
   "metadata": {
    "execution": {
     "iopub.execute_input": "2021-06-30T23:41:13.939968Z",
     "iopub.status.busy": "2021-06-30T23:41:13.938998Z",
     "iopub.status.idle": "2021-06-30T23:41:13.945027Z",
     "shell.execute_reply": "2021-06-30T23:41:13.944426Z"
    },
    "papermill": {
     "duration": 0.114576,
     "end_time": "2021-06-30T23:41:13.945157",
     "exception": false,
     "start_time": "2021-06-30T23:41:13.830581",
     "status": "completed"
    },
    "tags": []
   },
   "outputs": [],
   "source": [
    "#creating groups of bmi\n",
    "category=pd.cut(insured.bmi,bins=[15,25,35,45,55],labels=['15-25','25-35','35-45','45-55'])\n",
    "insured.insert(5,'BMIGroup',category)\n"
   ]
  },
  {
   "cell_type": "code",
   "execution_count": 33,
   "id": "multiple-oklahoma",
   "metadata": {
    "execution": {
     "iopub.execute_input": "2021-06-30T23:41:14.161109Z",
     "iopub.status.busy": "2021-06-30T23:41:14.160189Z",
     "iopub.status.idle": "2021-06-30T23:41:14.164544Z",
     "shell.execute_reply": "2021-06-30T23:41:14.163949Z"
    },
    "papermill": {
     "duration": 0.119843,
     "end_time": "2021-06-30T23:41:14.164678",
     "exception": false,
     "start_time": "2021-06-30T23:41:14.044835",
     "status": "completed"
    },
    "tags": []
   },
   "outputs": [
    {
     "data": {
      "text/html": [
       "<div>\n",
       "<style scoped>\n",
       "    .dataframe tbody tr th:only-of-type {\n",
       "        vertical-align: middle;\n",
       "    }\n",
       "\n",
       "    .dataframe tbody tr th {\n",
       "        vertical-align: top;\n",
       "    }\n",
       "\n",
       "    .dataframe thead th {\n",
       "        text-align: right;\n",
       "    }\n",
       "</style>\n",
       "<table border=\"1\" class=\"dataframe\">\n",
       "  <thead>\n",
       "    <tr style=\"text-align: right;\">\n",
       "      <th></th>\n",
       "      <th>age</th>\n",
       "      <th>sex</th>\n",
       "      <th>bmi</th>\n",
       "      <th>children</th>\n",
       "      <th>smoker</th>\n",
       "      <th>BMIGroup</th>\n",
       "      <th>region</th>\n",
       "      <th>charges</th>\n",
       "    </tr>\n",
       "  </thead>\n",
       "  <tbody>\n",
       "    <tr>\n",
       "      <th>0</th>\n",
       "      <td>19</td>\n",
       "      <td>female</td>\n",
       "      <td>27.900</td>\n",
       "      <td>0</td>\n",
       "      <td>yes</td>\n",
       "      <td>25-35</td>\n",
       "      <td>southwest</td>\n",
       "      <td>16884.92400</td>\n",
       "    </tr>\n",
       "    <tr>\n",
       "      <th>1</th>\n",
       "      <td>18</td>\n",
       "      <td>male</td>\n",
       "      <td>33.770</td>\n",
       "      <td>1</td>\n",
       "      <td>no</td>\n",
       "      <td>25-35</td>\n",
       "      <td>southeast</td>\n",
       "      <td>1725.55230</td>\n",
       "    </tr>\n",
       "    <tr>\n",
       "      <th>2</th>\n",
       "      <td>28</td>\n",
       "      <td>male</td>\n",
       "      <td>33.000</td>\n",
       "      <td>3</td>\n",
       "      <td>no</td>\n",
       "      <td>25-35</td>\n",
       "      <td>southeast</td>\n",
       "      <td>4449.46200</td>\n",
       "    </tr>\n",
       "    <tr>\n",
       "      <th>3</th>\n",
       "      <td>33</td>\n",
       "      <td>male</td>\n",
       "      <td>22.705</td>\n",
       "      <td>0</td>\n",
       "      <td>no</td>\n",
       "      <td>15-25</td>\n",
       "      <td>northwest</td>\n",
       "      <td>21984.47061</td>\n",
       "    </tr>\n",
       "    <tr>\n",
       "      <th>4</th>\n",
       "      <td>32</td>\n",
       "      <td>male</td>\n",
       "      <td>28.880</td>\n",
       "      <td>0</td>\n",
       "      <td>no</td>\n",
       "      <td>25-35</td>\n",
       "      <td>northwest</td>\n",
       "      <td>3866.85520</td>\n",
       "    </tr>\n",
       "  </tbody>\n",
       "</table>\n",
       "</div>"
      ],
      "text/plain": [
       "   age     sex     bmi  children smoker BMIGroup     region      charges\n",
       "0   19  female  27.900         0    yes    25-35  southwest  16884.92400\n",
       "1   18    male  33.770         1     no    25-35  southeast   1725.55230\n",
       "2   28    male  33.000         3     no    25-35  southeast   4449.46200\n",
       "3   33    male  22.705         0     no    15-25  northwest  21984.47061\n",
       "4   32    male  28.880         0     no    25-35  northwest   3866.85520"
      ]
     },
     "execution_count": 33,
     "metadata": {},
     "output_type": "execute_result"
    }
   ],
   "source": [
    "insured.head()"
   ]
  },
  {
   "cell_type": "code",
   "execution_count": 34,
   "id": "proud-register",
   "metadata": {
    "execution": {
     "iopub.execute_input": "2021-06-30T23:41:14.373555Z",
     "iopub.status.busy": "2021-06-30T23:41:14.372935Z",
     "iopub.status.idle": "2021-06-30T23:41:14.377261Z",
     "shell.execute_reply": "2021-06-30T23:41:14.376604Z"
    },
    "papermill": {
     "duration": 0.112228,
     "end_time": "2021-06-30T23:41:14.377421",
     "exception": false,
     "start_time": "2021-06-30T23:41:14.265193",
     "status": "completed"
    },
    "tags": []
   },
   "outputs": [
    {
     "data": {
      "text/plain": [
       "children\n",
       "0    12365.975602\n",
       "1    12731.171832\n",
       "2    15073.563734\n",
       "3    15355.318367\n",
       "4    13850.656311\n",
       "5     8786.035247\n",
       "Name: charges, dtype: float64"
      ]
     },
     "execution_count": 34,
     "metadata": {},
     "output_type": "execute_result"
    }
   ],
   "source": [
    "#no of children has no relation with charges\n",
    "insured.groupby(insured.children).charges.mean()"
   ]
  },
  {
   "cell_type": "code",
   "execution_count": 35,
   "id": "senior-kenya",
   "metadata": {
    "execution": {
     "iopub.execute_input": "2021-06-30T23:41:14.593653Z",
     "iopub.status.busy": "2021-06-30T23:41:14.593010Z",
     "iopub.status.idle": "2021-06-30T23:41:14.597495Z",
     "shell.execute_reply": "2021-06-30T23:41:14.596899Z"
    },
    "papermill": {
     "duration": 0.113884,
     "end_time": "2021-06-30T23:41:14.597626",
     "exception": false,
     "start_time": "2021-06-30T23:41:14.483742",
     "status": "completed"
    },
    "tags": []
   },
   "outputs": [
    {
     "data": {
      "text/plain": [
       "BMIGroup\n",
       "15-25    10284.290025\n",
       "25-35    12720.254311\n",
       "35-45    16913.681515\n",
       "45-55    17547.926750\n",
       "Name: charges, dtype: float64"
      ]
     },
     "execution_count": 35,
     "metadata": {},
     "output_type": "execute_result"
    }
   ],
   "source": [
    "insured.groupby(insured.BMIGroup).charges.mean()"
   ]
  },
  {
   "cell_type": "code",
   "execution_count": 36,
   "id": "round-lesbian",
   "metadata": {
    "execution": {
     "iopub.execute_input": "2021-06-30T23:41:14.810064Z",
     "iopub.status.busy": "2021-06-30T23:41:14.809416Z",
     "iopub.status.idle": "2021-06-30T23:41:14.812757Z",
     "shell.execute_reply": "2021-06-30T23:41:14.812151Z"
    },
    "papermill": {
     "duration": 0.113591,
     "end_time": "2021-06-30T23:41:14.812903",
     "exception": false,
     "start_time": "2021-06-30T23:41:14.699312",
     "status": "completed"
    },
    "tags": []
   },
   "outputs": [],
   "source": [
    "category1=pd.cut(insured.age,bins=[18,28,38,48,58,68],labels=['18-28','28-38','38-48','48-58','58-68'])\n",
    "insured.insert(6,'AgeBin',category1)"
   ]
  },
  {
   "cell_type": "code",
   "execution_count": 37,
   "id": "welsh-petite",
   "metadata": {
    "execution": {
     "iopub.execute_input": "2021-06-30T23:41:15.026342Z",
     "iopub.status.busy": "2021-06-30T23:41:15.025547Z",
     "iopub.status.idle": "2021-06-30T23:41:15.029163Z",
     "shell.execute_reply": "2021-06-30T23:41:15.028578Z"
    },
    "papermill": {
     "duration": 0.114278,
     "end_time": "2021-06-30T23:41:15.029305",
     "exception": false,
     "start_time": "2021-06-30T23:41:14.915027",
     "status": "completed"
    },
    "tags": []
   },
   "outputs": [
    {
     "data": {
      "text/plain": [
       "AgeBin\n",
       "18-28     9528.142786\n",
       "28-38    11598.554943\n",
       "38-48    14334.585843\n",
       "48-58    15887.954341\n",
       "58-68    20824.972901\n",
       "Name: charges, dtype: float64"
      ]
     },
     "execution_count": 37,
     "metadata": {},
     "output_type": "execute_result"
    }
   ],
   "source": [
    "insured.groupby(insured.AgeBin).charges.mean()"
   ]
  },
  {
   "cell_type": "code",
   "execution_count": 38,
   "id": "double-regard",
   "metadata": {
    "execution": {
     "iopub.execute_input": "2021-06-30T23:41:15.241511Z",
     "iopub.status.busy": "2021-06-30T23:41:15.240842Z",
     "iopub.status.idle": "2021-06-30T23:41:15.256163Z",
     "shell.execute_reply": "2021-06-30T23:41:15.256625Z"
    },
    "papermill": {
     "duration": 0.124321,
     "end_time": "2021-06-30T23:41:15.256811",
     "exception": false,
     "start_time": "2021-06-30T23:41:15.132490",
     "status": "completed"
    },
    "tags": []
   },
   "outputs": [
    {
     "data": {
      "text/html": [
       "<div>\n",
       "<style scoped>\n",
       "    .dataframe tbody tr th:only-of-type {\n",
       "        vertical-align: middle;\n",
       "    }\n",
       "\n",
       "    .dataframe tbody tr th {\n",
       "        vertical-align: top;\n",
       "    }\n",
       "\n",
       "    .dataframe thead th {\n",
       "        text-align: right;\n",
       "    }\n",
       "</style>\n",
       "<table border=\"1\" class=\"dataframe\">\n",
       "  <thead>\n",
       "    <tr style=\"text-align: right;\">\n",
       "      <th></th>\n",
       "      <th>smoker</th>\n",
       "      <th>no</th>\n",
       "      <th>yes</th>\n",
       "    </tr>\n",
       "    <tr>\n",
       "      <th>region</th>\n",
       "      <th>sex</th>\n",
       "      <th></th>\n",
       "      <th></th>\n",
       "    </tr>\n",
       "  </thead>\n",
       "  <tbody>\n",
       "    <tr>\n",
       "      <th rowspan=\"2\" valign=\"top\">northeast</th>\n",
       "      <th>female</th>\n",
       "      <td>9640.426984</td>\n",
       "      <td>28032.046398</td>\n",
       "    </tr>\n",
       "    <tr>\n",
       "      <th>male</th>\n",
       "      <td>8664.042222</td>\n",
       "      <td>30926.252583</td>\n",
       "    </tr>\n",
       "    <tr>\n",
       "      <th rowspan=\"2\" valign=\"top\">northwest</th>\n",
       "      <th>female</th>\n",
       "      <td>8786.998679</td>\n",
       "      <td>29670.824946</td>\n",
       "    </tr>\n",
       "    <tr>\n",
       "      <th>male</th>\n",
       "      <td>8320.689321</td>\n",
       "      <td>30713.181419</td>\n",
       "    </tr>\n",
       "    <tr>\n",
       "      <th rowspan=\"2\" valign=\"top\">southeast</th>\n",
       "      <th>female</th>\n",
       "      <td>8440.205552</td>\n",
       "      <td>33034.820716</td>\n",
       "    </tr>\n",
       "    <tr>\n",
       "      <th>male</th>\n",
       "      <td>7609.003587</td>\n",
       "      <td>36029.839367</td>\n",
       "    </tr>\n",
       "    <tr>\n",
       "      <th rowspan=\"2\" valign=\"top\">southwest</th>\n",
       "      <th>female</th>\n",
       "      <td>8234.091260</td>\n",
       "      <td>31687.988430</td>\n",
       "    </tr>\n",
       "    <tr>\n",
       "      <th>male</th>\n",
       "      <td>7778.905534</td>\n",
       "      <td>32598.862854</td>\n",
       "    </tr>\n",
       "  </tbody>\n",
       "</table>\n",
       "</div>"
      ],
      "text/plain": [
       "smoker                     no           yes\n",
       "region    sex                              \n",
       "northeast female  9640.426984  28032.046398\n",
       "          male    8664.042222  30926.252583\n",
       "northwest female  8786.998679  29670.824946\n",
       "          male    8320.689321  30713.181419\n",
       "southeast female  8440.205552  33034.820716\n",
       "          male    7609.003587  36029.839367\n",
       "southwest female  8234.091260  31687.988430\n",
       "          male    7778.905534  32598.862854"
      ]
     },
     "execution_count": 38,
     "metadata": {},
     "output_type": "execute_result"
    }
   ],
   "source": [
    "insured.groupby(['region','sex','smoker']).mean()['charges'].unstack()"
   ]
  },
  {
   "cell_type": "code",
   "execution_count": 39,
   "id": "vietnamese-diamond",
   "metadata": {
    "execution": {
     "iopub.execute_input": "2021-06-30T23:41:15.471097Z",
     "iopub.status.busy": "2021-06-30T23:41:15.470492Z",
     "iopub.status.idle": "2021-06-30T23:41:15.787402Z",
     "shell.execute_reply": "2021-06-30T23:41:15.786844Z"
    },
    "papermill": {
     "duration": 0.427472,
     "end_time": "2021-06-30T23:41:15.787539",
     "exception": false,
     "start_time": "2021-06-30T23:41:15.360067",
     "status": "completed"
    },
    "tags": []
   },
   "outputs": [
    {
     "data": {
      "text/plain": [
       "[Text(0.5, 1.0, 'Age Vs Charges')]"
      ]
     },
     "execution_count": 39,
     "metadata": {},
     "output_type": "execute_result"
    },
    {
     "data": {
      "image/png": "[encoded data removed]",
      "text/plain": [
       "<Figure size 432x288 with 1 Axes>"
      ]
     },
     "metadata": {},
     "output_type": "display_data"
    }
   ],
   "source": [
    "sns.barplot(x=insured.AgeBin,y=insured.charges).set(title='Age Vs Charges')"
   ]
  },
  {
   "cell_type": "code",
   "execution_count": 40,
   "id": "reliable-slovakia",
   "metadata": {
    "execution": {
     "iopub.execute_input": "2021-06-30T23:41:16.006755Z",
     "iopub.status.busy": "2021-06-30T23:41:16.004372Z",
     "iopub.status.idle": "2021-06-30T23:41:16.284460Z",
     "shell.execute_reply": "2021-06-30T23:41:16.283904Z"
    },
    "papermill": {
     "duration": 0.391957,
     "end_time": "2021-06-30T23:41:16.284612",
     "exception": false,
     "start_time": "2021-06-30T23:41:15.892655",
     "status": "completed"
    },
    "tags": []
   },
   "outputs": [
    {
     "data": {
      "text/plain": [
       "<AxesSubplot:xlabel='BMIGroup', ylabel='charges'>"
      ]
     },
     "execution_count": 40,
     "metadata": {},
     "output_type": "execute_result"
    },
    {
     "data": {
      "image/png": "[encoded data removed]",
      "text/plain": [
       "<Figure size 432x288 with 1 Axes>"
      ]
     },
     "metadata": {},
     "output_type": "display_data"
    }
   ],
   "source": [
    "sns.barplot(x=insured.BMIGroup,y=insured.charges)"
   ]
  },
  {
   "cell_type": "code",
   "execution_count": 41,
   "id": "legislative-candidate",
   "metadata": {
    "execution": {
     "iopub.execute_input": "2021-06-30T23:41:16.504689Z",
     "iopub.status.busy": "2021-06-30T23:41:16.503826Z",
     "iopub.status.idle": "2021-06-30T23:41:16.973839Z",
     "shell.execute_reply": "2021-06-30T23:41:16.973177Z"
    },
    "papermill": {
     "duration": 0.583297,
     "end_time": "2021-06-30T23:41:16.973977",
     "exception": false,
     "start_time": "2021-06-30T23:41:16.390680",
     "status": "completed"
    },
    "tags": []
   },
   "outputs": [
    {
     "data": {
      "image/png": "[encoded data removed]",
      "text/plain": [
       "<Figure size 1080x504 with 1 Axes>"
      ]
     },
     "metadata": {},
     "output_type": "display_data"
    }
   ],
   "source": [
    "plt.figure(figsize=(15,7))\n",
    "sns.barplot(x=insured[\"BMIGroup\"],y=insured[\"age\"],hue=insured['sex'],ci=0).set(title= 'Age and Bmi of Males and Females')\n",
    "plt.legend(bbox_to_anchor=(1.00, 1))\n",
    "plt.show()"
   ]
  },
  {
   "cell_type": "code",
   "execution_count": 42,
   "id": "conservative-employee",
   "metadata": {
    "execution": {
     "iopub.execute_input": "2021-06-30T23:41:17.193632Z",
     "iopub.status.busy": "2021-06-30T23:41:17.193010Z",
     "iopub.status.idle": "2021-06-30T23:41:17.658880Z",
     "shell.execute_reply": "2021-06-30T23:41:17.659384Z"
    },
    "papermill": {
     "duration": 0.578842,
     "end_time": "2021-06-30T23:41:17.659570",
     "exception": false,
     "start_time": "2021-06-30T23:41:17.080728",
     "status": "completed"
    },
    "tags": []
   },
   "outputs": [
    {
     "data": {
      "text/plain": [
       "[Text(0.5, 1.0, 'Fig 2:BMI group and Charges ')]"
      ]
     },
     "execution_count": 42,
     "metadata": {},
     "output_type": "execute_result"
    },
    {
     "data": {
      "image/png": "[encoded data removed]",
      "text/plain": [
       "<Figure size 432x288 with 1 Axes>"
      ]
     },
     "metadata": {},
     "output_type": "display_data"
    }
   ],
   "source": [
    "sns.barplot(x='BMIGroup',y='charges',hue='sex',data=insured).set(title=\"Fig 2:BMI group and Charges \" )"
   ]
  },
  {
   "cell_type": "markdown",
   "id": "honey-incidence",
   "metadata": {
    "papermill": {
     "duration": 0.108116,
     "end_time": "2021-06-30T23:41:17.875627",
     "exception": false,
     "start_time": "2021-06-30T23:41:17.767511",
     "status": "completed"
    },
    "tags": []
   },
   "source": [
    "**Observations**\n",
    "- FeMales with most BMI has incured most charges to the insurance company\n",
    "- BMI for male and females are not same\n",
    "- Beneficary with higher BMI have incurred more cost to insurance."
   ]
  },
  {
   "cell_type": "code",
   "execution_count": 43,
   "id": "proper-grounds",
   "metadata": {
    "execution": {
     "iopub.execute_input": "2021-06-30T23:41:18.098321Z",
     "iopub.status.busy": "2021-06-30T23:41:18.097719Z",
     "iopub.status.idle": "2021-06-30T23:41:18.121133Z",
     "shell.execute_reply": "2021-06-30T23:41:18.120647Z"
    },
    "papermill": {
     "duration": 0.134853,
     "end_time": "2021-06-30T23:41:18.121266",
     "exception": false,
     "start_time": "2021-06-30T23:41:17.986413",
     "status": "completed"
    },
    "tags": []
   },
   "outputs": [
    {
     "data": {
      "text/html": [
       "<div>\n",
       "<style scoped>\n",
       "    .dataframe tbody tr th:only-of-type {\n",
       "        vertical-align: middle;\n",
       "    }\n",
       "\n",
       "    .dataframe tbody tr th {\n",
       "        vertical-align: top;\n",
       "    }\n",
       "\n",
       "    .dataframe thead th {\n",
       "        text-align: right;\n",
       "    }\n",
       "</style>\n",
       "<table border=\"1\" class=\"dataframe\">\n",
       "  <thead>\n",
       "    <tr style=\"text-align: right;\">\n",
       "      <th>children</th>\n",
       "      <th>0</th>\n",
       "      <th>1</th>\n",
       "      <th>2</th>\n",
       "      <th>3</th>\n",
       "      <th>4</th>\n",
       "      <th>5</th>\n",
       "    </tr>\n",
       "    <tr>\n",
       "      <th>sex</th>\n",
       "      <th></th>\n",
       "      <th></th>\n",
       "      <th></th>\n",
       "      <th></th>\n",
       "      <th></th>\n",
       "      <th></th>\n",
       "    </tr>\n",
       "  </thead>\n",
       "  <tbody>\n",
       "    <tr>\n",
       "      <th>female</th>\n",
       "      <td>289</td>\n",
       "      <td>158</td>\n",
       "      <td>119</td>\n",
       "      <td>77</td>\n",
       "      <td>11</td>\n",
       "      <td>8</td>\n",
       "    </tr>\n",
       "    <tr>\n",
       "      <th>male</th>\n",
       "      <td>285</td>\n",
       "      <td>166</td>\n",
       "      <td>121</td>\n",
       "      <td>80</td>\n",
       "      <td>14</td>\n",
       "      <td>10</td>\n",
       "    </tr>\n",
       "  </tbody>\n",
       "</table>\n",
       "</div>"
      ],
      "text/plain": [
       "children    0    1    2   3   4   5\n",
       "sex                                \n",
       "female    289  158  119  77  11   8\n",
       "male      285  166  121  80  14  10"
      ]
     },
     "execution_count": 43,
     "metadata": {},
     "output_type": "execute_result"
    }
   ],
   "source": [
    "pd.crosstab(insured['sex'],insured['children'])\n"
   ]
  },
  {
   "cell_type": "code",
   "execution_count": 44,
   "id": "automatic-blake",
   "metadata": {
    "execution": {
     "iopub.execute_input": "2021-06-30T23:41:18.341403Z",
     "iopub.status.busy": "2021-06-30T23:41:18.340772Z",
     "iopub.status.idle": "2021-06-30T23:41:18.981664Z",
     "shell.execute_reply": "2021-06-30T23:41:18.982114Z"
    },
    "papermill": {
     "duration": 0.752589,
     "end_time": "2021-06-30T23:41:18.982288",
     "exception": false,
     "start_time": "2021-06-30T23:41:18.229699",
     "status": "completed"
    },
    "tags": []
   },
   "outputs": [
    {
     "data": {
      "text/plain": [
       "<Figure size 1800x720 with 0 Axes>"
      ]
     },
     "metadata": {},
     "output_type": "display_data"
    },
    {
     "data": {
      "image/png": "[encoded data removed]",
      "text/plain": [
       "<Figure size 584.8x576 with 2 Axes>"
      ]
     },
     "metadata": {},
     "output_type": "display_data"
    }
   ],
   "source": [
    "plt.figure(figsize=(25,10))\n",
    "g=sns.FacetGrid(insured,row='smoker',height=4, aspect=2)\n",
    "g=(g.map(plt.scatter ,'age','charges').add_legend())"
   ]
  },
  {
   "cell_type": "code",
   "execution_count": 45,
   "id": "configured-reception",
   "metadata": {
    "execution": {
     "iopub.execute_input": "2021-06-30T23:41:19.227086Z",
     "iopub.status.busy": "2021-06-30T23:41:19.224093Z",
     "iopub.status.idle": "2021-06-30T23:41:19.992526Z",
     "shell.execute_reply": "2021-06-30T23:41:19.993168Z"
    },
    "papermill": {
     "duration": 0.899278,
     "end_time": "2021-06-30T23:41:19.993385",
     "exception": false,
     "start_time": "2021-06-30T23:41:19.094107",
     "status": "completed"
    },
    "tags": []
   },
   "outputs": [
    {
     "data": {
      "image/png": "[encoded data removed]",
      "text/plain": [
       "<Figure size 503.475x432 with 1 Axes>"
      ]
     },
     "metadata": {},
     "output_type": "display_data"
    }
   ],
   "source": [
    "sns.relplot(x=insured.BMIGroup, y=insured.charges, hue=insured.smoker, size= insured.AgeBin,\n",
    "            sizes=(40, 400), alpha=.5, palette=\"spring\",\n",
    "            height=6, data=insured).set(title='Charges by Age,BMI,Smoker');"
   ]
  },
  {
   "cell_type": "markdown",
   "id": "unavailable-andorra",
   "metadata": {
    "papermill": {
     "duration": 0.112804,
     "end_time": "2021-06-30T23:41:20.222183",
     "exception": false,
     "start_time": "2021-06-30T23:41:20.109379",
     "status": "completed"
    },
    "tags": []
   },
   "source": [
    "**Observation**\n",
    "- Males who smoker have incured more cost compared to nonsmokers.\n",
    "- As age increased claims increased\n",
    "-Smoker have higher medical claims"
   ]
  },
  {
   "cell_type": "markdown",
   "id": "ca6a3855",
   "metadata": {
    "papermill": {
     "duration": 0.112974,
     "end_time": "2021-06-30T23:41:20.447628",
     "exception": false,
     "start_time": "2021-06-30T23:41:20.334654",
     "status": "completed"
    },
    "tags": []
   },
   "source": [
    "<a id='cn'></a>\n",
    "<h2 style=\"background-color: steelblue; \n",
    "    color: white; \n",
    "    padding: 8px; \n",
    "    padding-right: 300px; \n",
    "    font-size: 24px; \n",
    "    font-family:Garamond \n",
    "    max-width: 1500px; \n",
    "    margin-top: 50px;\n",
    "    margin-bottom:4px;\">Conclusion</h2>\n",
    "    "
   ]
  },
  {
   "cell_type": "markdown",
   "id": "consolidated-webmaster",
   "metadata": {
    "papermill": {
     "duration": 0.112974,
     "end_time": "2021-06-30T23:41:20.447628",
     "exception": false,
     "start_time": "2021-06-30T23:41:20.334654",
     "status": "completed"
    },
    "tags": []
   },
   "source": [
    "- As expected , as the age of the beneficiary  increases ,the cost to insurance increases.\n",
    "- Males who smoke have most claims and have higher bills.\n",
    "- Female who are nonsmoker also have more claims to nonsmoker males this may be because of child birth , need to explore claims type to understand better.\n",
    "- Beneficiary with 2 or 3 dependent  have billed higher compared to others people who have 5.This is unusual and may be because of  uneven number of observations in each group. For example, no dependents group has 574 observations whereas five dependents group only has 18.\n",
    "- Customer with bmi  >30 are  on higher side of obesity, have more health issues and have higher claims.\n",
    "- Females with BMI more than 45 have billed higher to insurance.\n",
    "- Age, BMI and Smoking are important attributes which can cost insurance company more."
   ]
  },
  {
   "cell_type": "markdown",
   "id": "entire-internship",
   "metadata": {
    "papermill": {
     "duration": 0.111969,
     "end_time": "2021-06-30T23:41:20.672589",
     "exception": false,
     "start_time": "2021-06-30T23:41:20.560620",
     "status": "completed"
    },
    "tags": []
   },
   "source": [
    " <a id='sa'> </a>\n",
    " \n",
    " <h2 style=\"background-color: steelblue; \n",
    "    color: white; \n",
    "    padding: 8px; \n",
    "    padding-right: 300px; \n",
    "    font-size: 24px; \n",
    "    font-family:Garamond \n",
    "    max-width: 1500px; \n",
    "    margin-top: 50px;\n",
    "    margin-bottom:4px;\">Statistical Analysis</h2>"
   ]
  },
  {
   "cell_type": "markdown",
   "id": "recreational-professional",
   "metadata": {
    "papermill": {
     "duration": 0.112708,
     "end_time": "2021-06-30T23:41:20.898013",
     "exception": false,
     "start_time": "2021-06-30T23:41:20.785305",
     "status": "completed"
    },
    "tags": []
   },
   "source": [
    "# 1.Prove (or disprove) that the medical claims made by the people who smoke is greater than those who don't?"
   ]
  },
  {
   "cell_type": "markdown",
   "id": "confident-planet",
   "metadata": {
    "papermill": {
     "duration": 0.113447,
     "end_time": "2021-06-30T23:41:21.126141",
     "exception": false,
     "start_time": "2021-06-30T23:41:21.012694",
     "status": "completed"
    },
    "tags": []
   },
   "source": [
    "<div class =\"alert alert-block alert-info\">\n",
    "    <font size=3><b>    Step 1: Define null and alternative hypothesis</b></font><br>\n",
    "$\\ H_0  :  \\mu_1 <= \\mu_2  $ The average charges of smokers is less than or equal to nonsmokers \n",
    " <br>\n",
    " \n",
    "$\\ H_a  :\\mu_1 > \\mu_2 $ The average charges of smokers is greater than nonsmokers  <br>\n",
    "</div>"
   ]
  },
  {
   "cell_type": "markdown",
   "id": "provincial-battery",
   "metadata": {
    "papermill": {
     "duration": 0.11248,
     "end_time": "2021-06-30T23:41:21.351174",
     "exception": false,
     "start_time": "2021-06-30T23:41:21.238694",
     "status": "completed"
    },
    "tags": []
   },
   "source": [
    "<div class =\"alert alert-block alert-info\">\n",
    "    <font size=3><b>Step 2: Decide the significance level. If P values is less than alpha reject the null hypothesis.</b></font>\n",
    "α = 0.05</div>"
   ]
  },
  {
   "cell_type": "markdown",
   "id": "interior-times",
   "metadata": {
    "papermill": {
     "duration": 0.112626,
     "end_time": "2021-06-30T23:41:21.576336",
     "exception": false,
     "start_time": "2021-06-30T23:41:21.463710",
     "status": "completed"
    },
    "tags": []
   },
   "source": [
    "<div class =\"alert alert-block alert-info\">\n",
    "    <font size=3><b>Step 3: Identify the test</b></font>\n",
    "Standard deviation of the population is not known  ,will perform a T stat test .  The > sign in alternate hypothesis indicate  test is right tailed, that is all z values that would cause us to reject null hypothesis are in just one tail to the right of  sampling  distribution curve.</div>\n",
    "\n",
    "    \n"
   ]
  },
  {
   "cell_type": "markdown",
   "id": "laughing-relaxation",
   "metadata": {
    "papermill": {
     "duration": 0.111999,
     "end_time": "2021-06-30T23:41:21.800694",
     "exception": false,
     "start_time": "2021-06-30T23:41:21.688695",
     "status": "completed"
    },
    "tags": []
   },
   "source": [
    "<div class =\"alert alert-block alert-info\">\n",
    "    <font size=3><b>Step 4: Calculate the test-statistics and p-value</b></font></div>"
   ]
  },
  {
   "cell_type": "code",
   "execution_count": 46,
   "id": "intermediate-referral",
   "metadata": {
    "execution": {
     "iopub.execute_input": "2021-06-30T23:41:22.043815Z",
     "iopub.status.busy": "2021-06-30T23:41:22.042798Z",
     "iopub.status.idle": "2021-06-30T23:41:22.046957Z",
     "shell.execute_reply": "2021-06-30T23:41:22.046481Z"
    },
    "papermill": {
     "duration": 0.134524,
     "end_time": "2021-06-30T23:41:22.047091",
     "exception": false,
     "start_time": "2021-06-30T23:41:21.912567",
     "status": "completed"
    },
    "tags": []
   },
   "outputs": [
    {
     "data": {
      "text/html": [
       "<div>\n",
       "<style scoped>\n",
       "    .dataframe tbody tr th:only-of-type {\n",
       "        vertical-align: middle;\n",
       "    }\n",
       "\n",
       "    .dataframe tbody tr th {\n",
       "        vertical-align: top;\n",
       "    }\n",
       "\n",
       "    .dataframe thead th {\n",
       "        text-align: right;\n",
       "    }\n",
       "</style>\n",
       "<table border=\"1\" class=\"dataframe\">\n",
       "  <thead>\n",
       "    <tr style=\"text-align: right;\">\n",
       "      <th></th>\n",
       "      <th>age</th>\n",
       "      <th>sex</th>\n",
       "      <th>bmi</th>\n",
       "      <th>children</th>\n",
       "      <th>smoker</th>\n",
       "      <th>BMIGroup</th>\n",
       "      <th>AgeBin</th>\n",
       "      <th>region</th>\n",
       "      <th>charges</th>\n",
       "    </tr>\n",
       "  </thead>\n",
       "  <tbody>\n",
       "    <tr>\n",
       "      <th>0</th>\n",
       "      <td>19</td>\n",
       "      <td>female</td>\n",
       "      <td>27.90</td>\n",
       "      <td>0</td>\n",
       "      <td>yes</td>\n",
       "      <td>25-35</td>\n",
       "      <td>18-28</td>\n",
       "      <td>southwest</td>\n",
       "      <td>16884.9240</td>\n",
       "    </tr>\n",
       "    <tr>\n",
       "      <th>11</th>\n",
       "      <td>62</td>\n",
       "      <td>female</td>\n",
       "      <td>26.29</td>\n",
       "      <td>0</td>\n",
       "      <td>yes</td>\n",
       "      <td>25-35</td>\n",
       "      <td>58-68</td>\n",
       "      <td>southeast</td>\n",
       "      <td>27808.7251</td>\n",
       "    </tr>\n",
       "    <tr>\n",
       "      <th>14</th>\n",
       "      <td>27</td>\n",
       "      <td>male</td>\n",
       "      <td>42.13</td>\n",
       "      <td>0</td>\n",
       "      <td>yes</td>\n",
       "      <td>35-45</td>\n",
       "      <td>18-28</td>\n",
       "      <td>southeast</td>\n",
       "      <td>39611.7577</td>\n",
       "    </tr>\n",
       "    <tr>\n",
       "      <th>19</th>\n",
       "      <td>30</td>\n",
       "      <td>male</td>\n",
       "      <td>35.30</td>\n",
       "      <td>0</td>\n",
       "      <td>yes</td>\n",
       "      <td>35-45</td>\n",
       "      <td>28-38</td>\n",
       "      <td>southwest</td>\n",
       "      <td>36837.4670</td>\n",
       "    </tr>\n",
       "    <tr>\n",
       "      <th>23</th>\n",
       "      <td>34</td>\n",
       "      <td>female</td>\n",
       "      <td>31.92</td>\n",
       "      <td>1</td>\n",
       "      <td>yes</td>\n",
       "      <td>25-35</td>\n",
       "      <td>28-38</td>\n",
       "      <td>northeast</td>\n",
       "      <td>37701.8768</td>\n",
       "    </tr>\n",
       "  </tbody>\n",
       "</table>\n",
       "</div>"
      ],
      "text/plain": [
       "    age     sex    bmi  children smoker BMIGroup AgeBin     region     charges\n",
       "0    19  female  27.90         0    yes    25-35  18-28  southwest  16884.9240\n",
       "11   62  female  26.29         0    yes    25-35  58-68  southeast  27808.7251\n",
       "14   27    male  42.13         0    yes    35-45  18-28  southeast  39611.7577\n",
       "19   30    male  35.30         0    yes    35-45  28-38  southwest  36837.4670\n",
       "23   34  female  31.92         1    yes    25-35  28-38  northeast  37701.8768"
      ]
     },
     "execution_count": 46,
     "metadata": {},
     "output_type": "execute_result"
    }
   ],
   "source": [
    "smoker=insured.loc[insured.smoker==\"yes\"]\n",
    "smoker.head()"
   ]
  },
  {
   "cell_type": "code",
   "execution_count": 47,
   "id": "varied-prescription",
   "metadata": {
    "execution": {
     "iopub.execute_input": "2021-06-30T23:41:22.278585Z",
     "iopub.status.busy": "2021-06-30T23:41:22.277588Z",
     "iopub.status.idle": "2021-06-30T23:41:22.286997Z",
     "shell.execute_reply": "2021-06-30T23:41:22.286448Z"
    },
    "papermill": {
     "duration": 0.125682,
     "end_time": "2021-06-30T23:41:22.287138",
     "exception": false,
     "start_time": "2021-06-30T23:41:22.161456",
     "status": "completed"
    },
    "tags": []
   },
   "outputs": [
    {
     "data": {
      "text/plain": [
       "age         274\n",
       "sex         274\n",
       "bmi         274\n",
       "children    274\n",
       "smoker      274\n",
       "BMIGroup    274\n",
       "AgeBin      262\n",
       "region      274\n",
       "charges     274\n",
       "dtype: int64"
      ]
     },
     "execution_count": 47,
     "metadata": {},
     "output_type": "execute_result"
    }
   ],
   "source": [
    "smoker.count()"
   ]
  },
  {
   "cell_type": "code",
   "execution_count": 48,
   "id": "facial-acquisition",
   "metadata": {
    "execution": {
     "iopub.execute_input": "2021-06-30T23:41:22.518141Z",
     "iopub.status.busy": "2021-06-30T23:41:22.517547Z",
     "iopub.status.idle": "2021-06-30T23:41:22.534417Z",
     "shell.execute_reply": "2021-06-30T23:41:22.534905Z"
    },
    "papermill": {
     "duration": 0.13411,
     "end_time": "2021-06-30T23:41:22.535074",
     "exception": false,
     "start_time": "2021-06-30T23:41:22.400964",
     "status": "completed"
    },
    "tags": []
   },
   "outputs": [
    {
     "data": {
      "text/html": [
       "<div>\n",
       "<style scoped>\n",
       "    .dataframe tbody tr th:only-of-type {\n",
       "        vertical-align: middle;\n",
       "    }\n",
       "\n",
       "    .dataframe tbody tr th {\n",
       "        vertical-align: top;\n",
       "    }\n",
       "\n",
       "    .dataframe thead th {\n",
       "        text-align: right;\n",
       "    }\n",
       "</style>\n",
       "<table border=\"1\" class=\"dataframe\">\n",
       "  <thead>\n",
       "    <tr style=\"text-align: right;\">\n",
       "      <th></th>\n",
       "      <th>age</th>\n",
       "      <th>sex</th>\n",
       "      <th>bmi</th>\n",
       "      <th>children</th>\n",
       "      <th>smoker</th>\n",
       "      <th>BMIGroup</th>\n",
       "      <th>AgeBin</th>\n",
       "      <th>region</th>\n",
       "      <th>charges</th>\n",
       "    </tr>\n",
       "  </thead>\n",
       "  <tbody>\n",
       "    <tr>\n",
       "      <th>1</th>\n",
       "      <td>18</td>\n",
       "      <td>male</td>\n",
       "      <td>33.770</td>\n",
       "      <td>1</td>\n",
       "      <td>no</td>\n",
       "      <td>25-35</td>\n",
       "      <td>NaN</td>\n",
       "      <td>southeast</td>\n",
       "      <td>1725.55230</td>\n",
       "    </tr>\n",
       "    <tr>\n",
       "      <th>2</th>\n",
       "      <td>28</td>\n",
       "      <td>male</td>\n",
       "      <td>33.000</td>\n",
       "      <td>3</td>\n",
       "      <td>no</td>\n",
       "      <td>25-35</td>\n",
       "      <td>18-28</td>\n",
       "      <td>southeast</td>\n",
       "      <td>4449.46200</td>\n",
       "    </tr>\n",
       "    <tr>\n",
       "      <th>3</th>\n",
       "      <td>33</td>\n",
       "      <td>male</td>\n",
       "      <td>22.705</td>\n",
       "      <td>0</td>\n",
       "      <td>no</td>\n",
       "      <td>15-25</td>\n",
       "      <td>28-38</td>\n",
       "      <td>northwest</td>\n",
       "      <td>21984.47061</td>\n",
       "    </tr>\n",
       "    <tr>\n",
       "      <th>4</th>\n",
       "      <td>32</td>\n",
       "      <td>male</td>\n",
       "      <td>28.880</td>\n",
       "      <td>0</td>\n",
       "      <td>no</td>\n",
       "      <td>25-35</td>\n",
       "      <td>28-38</td>\n",
       "      <td>northwest</td>\n",
       "      <td>3866.85520</td>\n",
       "    </tr>\n",
       "    <tr>\n",
       "      <th>5</th>\n",
       "      <td>31</td>\n",
       "      <td>female</td>\n",
       "      <td>25.740</td>\n",
       "      <td>0</td>\n",
       "      <td>no</td>\n",
       "      <td>25-35</td>\n",
       "      <td>28-38</td>\n",
       "      <td>southeast</td>\n",
       "      <td>3756.62160</td>\n",
       "    </tr>\n",
       "  </tbody>\n",
       "</table>\n",
       "</div>"
      ],
      "text/plain": [
       "   age     sex     bmi  children smoker BMIGroup AgeBin     region  \\\n",
       "1   18    male  33.770         1     no    25-35    NaN  southeast   \n",
       "2   28    male  33.000         3     no    25-35  18-28  southeast   \n",
       "3   33    male  22.705         0     no    15-25  28-38  northwest   \n",
       "4   32    male  28.880         0     no    25-35  28-38  northwest   \n",
       "5   31  female  25.740         0     no    25-35  28-38  southeast   \n",
       "\n",
       "       charges  \n",
       "1   1725.55230  \n",
       "2   4449.46200  \n",
       "3  21984.47061  \n",
       "4   3866.85520  \n",
       "5   3756.62160  "
      ]
     },
     "execution_count": 48,
     "metadata": {},
     "output_type": "execute_result"
    }
   ],
   "source": [
    "nonsmoker=insured.loc[insured.smoker=='no']\n",
    "nonsmoker.head()"
   ]
  },
  {
   "cell_type": "code",
   "execution_count": 49,
   "id": "suspended-chambers",
   "metadata": {
    "execution": {
     "iopub.execute_input": "2021-06-30T23:41:22.766065Z",
     "iopub.status.busy": "2021-06-30T23:41:22.765468Z",
     "iopub.status.idle": "2021-06-30T23:41:22.773152Z",
     "shell.execute_reply": "2021-06-30T23:41:22.773673Z"
    },
    "papermill": {
     "duration": 0.124948,
     "end_time": "2021-06-30T23:41:22.773839",
     "exception": false,
     "start_time": "2021-06-30T23:41:22.648891",
     "status": "completed"
    },
    "tags": []
   },
   "outputs": [
    {
     "data": {
      "text/plain": [
       "age         1064\n",
       "sex         1064\n",
       "bmi         1064\n",
       "children    1064\n",
       "smoker      1064\n",
       "BMIGroup    1064\n",
       "AgeBin      1007\n",
       "region      1064\n",
       "charges     1064\n",
       "dtype: int64"
      ]
     },
     "execution_count": 49,
     "metadata": {},
     "output_type": "execute_result"
    }
   ],
   "source": [
    "nonsmoker.count()"
   ]
  },
  {
   "cell_type": "code",
   "execution_count": 50,
   "id": "available-assembly",
   "metadata": {
    "execution": {
     "iopub.execute_input": "2021-06-30T23:41:23.007040Z",
     "iopub.status.busy": "2021-06-30T23:41:23.006459Z",
     "iopub.status.idle": "2021-06-30T23:41:23.010929Z",
     "shell.execute_reply": "2021-06-30T23:41:23.011440Z"
    },
    "papermill": {
     "duration": 0.123273,
     "end_time": "2021-06-30T23:41:23.011592",
     "exception": false,
     "start_time": "2021-06-30T23:41:22.888319",
     "status": "completed"
    },
    "tags": []
   },
   "outputs": [],
   "source": [
    "# Adjusting the size of the rows to be equal\n",
    "nonsmoker = nonsmoker[-274:]\n",
    "charges_yes = smoker.charges\n",
    "charges_no = nonsmoker.charges"
   ]
  },
  {
   "cell_type": "code",
   "execution_count": 51,
   "id": "finnish-productivity",
   "metadata": {
    "execution": {
     "iopub.execute_input": "2021-06-30T23:41:23.290467Z",
     "iopub.status.busy": "2021-06-30T23:41:23.289835Z",
     "iopub.status.idle": "2021-06-30T23:41:23.295293Z",
     "shell.execute_reply": "2021-06-30T23:41:23.295931Z"
    },
    "papermill": {
     "duration": 0.168979,
     "end_time": "2021-06-30T23:41:23.296098",
     "exception": false,
     "start_time": "2021-06-30T23:41:23.127119",
     "status": "completed"
    },
    "tags": []
   },
   "outputs": [
    {
     "name": "stdout",
     "output_type": "stream",
     "text": [
      "Average Cost charged to Insurance for smoker is 32050.23183153285 and nonsmoker is 8441.24905576642 \n"
     ]
    }
   ],
   "source": [
    "print('Average Cost charged to Insurance for smoker is {} and nonsmoker is {} '.format(charges_yes.mean(),charges_no.mean()))\n"
   ]
  },
  {
   "cell_type": "code",
   "execution_count": 52,
   "id": "olympic-writer",
   "metadata": {
    "execution": {
     "iopub.execute_input": "2021-06-30T23:41:23.537311Z",
     "iopub.status.busy": "2021-06-30T23:41:23.536333Z",
     "iopub.status.idle": "2021-06-30T23:41:23.718394Z",
     "shell.execute_reply": "2021-06-30T23:41:23.718929Z"
    },
    "papermill": {
     "duration": 0.306463,
     "end_time": "2021-06-30T23:41:23.719101",
     "exception": false,
     "start_time": "2021-06-30T23:41:23.412638",
     "status": "completed"
    },
    "tags": []
   },
   "outputs": [
    {
     "data": {
      "text/plain": [
       "[Text(0.5, 1.0, 'Fig:1 Smoker vs Charges')]"
      ]
     },
     "execution_count": 52,
     "metadata": {},
     "output_type": "execute_result"
    },
    {
     "data": {
      "image/png": "[encoded data removed]",
      "text/plain": [
       "<Figure size 432x288 with 1 Axes>"
      ]
     },
     "metadata": {},
     "output_type": "display_data"
    }
   ],
   "source": [
    "#smoker vs charges\n",
    "sns.boxplot(x=insured.charges,y=insured.smoker,data=insured).set(title=\"Fig:1 Smoker vs Charges\")"
   ]
  },
  {
   "cell_type": "code",
   "execution_count": 53,
   "id": "nonprofit-antarctica",
   "metadata": {
    "execution": {
     "iopub.execute_input": "2021-06-30T23:41:23.954573Z",
     "iopub.status.busy": "2021-06-30T23:41:23.953972Z",
     "iopub.status.idle": "2021-06-30T23:41:23.962517Z",
     "shell.execute_reply": "2021-06-30T23:41:23.962015Z"
    },
    "papermill": {
     "duration": 0.127444,
     "end_time": "2021-06-30T23:41:23.962654",
     "exception": false,
     "start_time": "2021-06-30T23:41:23.835210",
     "status": "completed"
    },
    "tags": []
   },
   "outputs": [
    {
     "name": "stdout",
     "output_type": "stream",
     "text": [
      "Test statistic = 30.168384427571915 , Pvalue =2.160499003168038e-118 , OnetailPvalue = 1.080249501584019e-118\n"
     ]
    }
   ],
   "source": [
    "alpha=0.05\n",
    "t_statistic_1, p_value_1 = stats.ttest_ind(charges_yes, charges_no)\n",
    "p_value_onetail=p_value_1/2\n",
    "\n",
    "print(\"Test statistic = {} , Pvalue ={} , OnetailPvalue = {}\".format(t_statistic_1,p_value_1, p_value_onetail ))\n"
   ]
  },
  {
   "cell_type": "code",
   "execution_count": 54,
   "id": "documentary-roommate",
   "metadata": {
    "execution": {
     "iopub.execute_input": "2021-06-30T23:41:24.205215Z",
     "iopub.status.busy": "2021-06-30T23:41:24.204619Z",
     "iopub.status.idle": "2021-06-30T23:41:24.209042Z",
     "shell.execute_reply": "2021-06-30T23:41:24.208550Z"
    },
    "papermill": {
     "duration": 0.128029,
     "end_time": "2021-06-30T23:41:24.209176",
     "exception": false,
     "start_time": "2021-06-30T23:41:24.081147",
     "status": "completed"
    },
    "tags": []
   },
   "outputs": [
    {
     "name": "stdout",
     "output_type": "stream",
     "text": [
      "Conclusion:Since P value 1.080249501584019e-118 is less than alpha 0.05 \n",
      "Reject Null Hypothesis that Average charges for smokers are less than or equal to nonsmoker.\n"
     ]
    }
   ],
   "source": [
    "if p_value_1 <alpha :\n",
    "    print(\"Conclusion:Since P value {} is less than alpha {} \". format (p_value_onetail,alpha) )\n",
    "    print(\"Reject Null Hypothesis that Average charges for smokers are less than or equal to nonsmoker.\")\n",
    "    \n",
    "else:\n",
    "    print(\"Conclusion:Since P value {} is greater than alpha {} \". format (p_value_onetail,alpha))\n",
    "    print(\"Failed to Reject Null Hypothesis that Average charges for smokers are less than nonsmoker.\")"
   ]
  },
  {
   "cell_type": "markdown",
   "id": "suited-stable",
   "metadata": {
    "papermill": {
     "duration": 0.121614,
     "end_time": "2021-06-30T23:41:24.448253",
     "exception": false,
     "start_time": "2021-06-30T23:41:24.326639",
     "status": "completed"
    },
    "tags": []
   },
   "source": [
    "<div class =\"alert alert-block alert-info\">\n",
    "    <font size=3><b>Step 5: Decide whethere to  reject or failed to reject null hypothesis</b></font><br>    \n",
    "    We reject the null hypothesis and can conclude that people who smoke have on an average larger medical claim compared to people who don't smoke. Similar result can also been seen in Fig no.1 Smokers Vs Charges</div>"
   ]
  },
  {
   "cell_type": "markdown",
   "id": "characteristic-frame",
   "metadata": {
    "papermill": {
     "duration": 0.116798,
     "end_time": "2021-06-30T23:41:24.682203",
     "exception": false,
     "start_time": "2021-06-30T23:41:24.565405",
     "status": "completed"
    },
    "tags": []
   },
   "source": [
    "# 2.Prove (or disprove) with statistical evidence that the BMI of females is different from that of males."
   ]
  },
  {
   "cell_type": "markdown",
   "id": "covered-sense",
   "metadata": {
    "papermill": {
     "duration": 0.116757,
     "end_time": "2021-06-30T23:41:24.916218",
     "exception": false,
     "start_time": "2021-06-30T23:41:24.799461",
     "status": "completed"
    },
    "tags": []
   },
   "source": [
    "<div class =\"alert alert-block alert-info\">\n",
    "    Let $\\mu_1 \\mu_2 $ and be the respective population means for BMI of males and BMI of females<br>\n",
    "    <font size=3><b>    Step 1: Define null and alternative hypothesis</b></font><br>\n",
    "$\\ H_0  : \\mu_1 - \\mu_2 = 0$ There is no difference between the BMI of Male  and BMI of female.<br>\n",
    "$\\ H_a  : \\mu_1 - \\mu_2 !=0 $ There is difference between the BMI of Male and BMI of female. <br>\n",
    "\n",
    "\n",
    "</div>"
   ]
  },
  {
   "cell_type": "markdown",
   "id": "smaller-blame",
   "metadata": {
    "papermill": {
     "duration": 0.118796,
     "end_time": "2021-06-30T23:41:25.154586",
     "exception": false,
     "start_time": "2021-06-30T23:41:25.035790",
     "status": "completed"
    },
    "tags": []
   },
   "source": [
    "<div class =\"alert alert-block alert-info\">\n",
    "    <font size=3><b>Step 2: Decide the significance level</b></font>\n",
    "\n",
    "α = 0.05</div>"
   ]
  },
  {
   "cell_type": "markdown",
   "id": "suitable-malta",
   "metadata": {
    "papermill": {
     "duration": 0.116997,
     "end_time": "2021-06-30T23:41:25.389477",
     "exception": false,
     "start_time": "2021-06-30T23:41:25.272480",
     "status": "completed"
    },
    "tags": []
   },
   "source": [
    "<div class =\"alert alert-block alert-info\">\n",
    "    <font size=3><b>Step 3:Identify the test</b></font><br>Standard deviation of the population is not known ,will perform a T stat test.Not equal to sign in alternate hypothesis indicate its a two tailed test.</div>"
   ]
  },
  {
   "cell_type": "markdown",
   "id": "civil-filename",
   "metadata": {
    "papermill": {
     "duration": 0.118845,
     "end_time": "2021-06-30T23:41:25.626122",
     "exception": false,
     "start_time": "2021-06-30T23:41:25.507277",
     "status": "completed"
    },
    "tags": []
   },
   "source": [
    "<div class =\"alert alert-block alert-info\">\n",
    "    <font size=3><b>Step 4: Calculate the test-statistics and p-value</b></font></div>"
   ]
  },
  {
   "cell_type": "code",
   "execution_count": 55,
   "id": "hourly-jefferson",
   "metadata": {
    "execution": {
     "iopub.execute_input": "2021-06-30T23:41:25.865490Z",
     "iopub.status.busy": "2021-06-30T23:41:25.864850Z",
     "iopub.status.idle": "2021-06-30T23:41:25.870969Z",
     "shell.execute_reply": "2021-06-30T23:41:25.871468Z"
    },
    "papermill": {
     "duration": 0.127155,
     "end_time": "2021-06-30T23:41:25.871634",
     "exception": false,
     "start_time": "2021-06-30T23:41:25.744479",
     "status": "completed"
    },
    "tags": []
   },
   "outputs": [],
   "source": [
    "#get all observation for male.\n",
    "df_male=insured.loc[insured.sex==\"male\"]\n",
    "#get all observation for females\n",
    "df_female=insured.loc[insured.sex==\"female\"]\n"
   ]
  },
  {
   "cell_type": "code",
   "execution_count": 56,
   "id": "thick-electric",
   "metadata": {
    "execution": {
     "iopub.execute_input": "2021-06-30T23:41:26.113088Z",
     "iopub.status.busy": "2021-06-30T23:41:26.112476Z",
     "iopub.status.idle": "2021-06-30T23:41:26.116026Z",
     "shell.execute_reply": "2021-06-30T23:41:26.116481Z"
    },
    "papermill": {
     "duration": 0.127596,
     "end_time": "2021-06-30T23:41:26.116650",
     "exception": false,
     "start_time": "2021-06-30T23:41:25.989054",
     "status": "completed"
    },
    "tags": []
   },
   "outputs": [],
   "source": [
    "#get bmi of male and female\n",
    "bmi_female=df_female.bmi\n",
    "bmi_male=df_male.bmi"
   ]
  },
  {
   "cell_type": "code",
   "execution_count": 57,
   "id": "composite-atlanta",
   "metadata": {
    "execution": {
     "iopub.execute_input": "2021-06-30T23:41:26.364121Z",
     "iopub.status.busy": "2021-06-30T23:41:26.363150Z",
     "iopub.status.idle": "2021-06-30T23:41:26.613632Z",
     "shell.execute_reply": "2021-06-30T23:41:26.612944Z"
    },
    "papermill": {
     "duration": 0.379142,
     "end_time": "2021-06-30T23:41:26.613777",
     "exception": false,
     "start_time": "2021-06-30T23:41:26.234635",
     "status": "completed"
    },
    "tags": []
   },
   "outputs": [
    {
     "data": {
      "text/plain": [
       "<AxesSubplot:xlabel='bmi', ylabel='Density'>"
      ]
     },
     "execution_count": 57,
     "metadata": {},
     "output_type": "execute_result"
    },
    {
     "data": {
      "image/png": "[encoded data removed]",
      "text/plain": [
       "<Figure size 432x288 with 1 Axes>"
      ]
     },
     "metadata": {},
     "output_type": "display_data"
    }
   ],
   "source": [
    "sns.distplot(bmi_male,color='green',hist=False)\n",
    "sns.distplot(bmi_female,color='red',hist=False)\n"
   ]
  },
  {
   "cell_type": "code",
   "execution_count": 58,
   "id": "accepting-vertical",
   "metadata": {
    "execution": {
     "iopub.execute_input": "2021-06-30T23:41:26.868124Z",
     "iopub.status.busy": "2021-06-30T23:41:26.867445Z",
     "iopub.status.idle": "2021-06-30T23:41:26.873655Z",
     "shell.execute_reply": "2021-06-30T23:41:26.874237Z"
    },
    "papermill": {
     "duration": 0.136318,
     "end_time": "2021-06-30T23:41:26.874441",
     "exception": false,
     "start_time": "2021-06-30T23:41:26.738123",
     "status": "completed"
    },
    "tags": []
   },
   "outputs": [
    {
     "data": {
      "text/plain": [
       "30.377749244713023"
      ]
     },
     "execution_count": 58,
     "metadata": {},
     "output_type": "execute_result"
    }
   ],
   "source": [
    "df_female.bmi.mean()"
   ]
  },
  {
   "cell_type": "code",
   "execution_count": 59,
   "id": "legislative-salon",
   "metadata": {
    "execution": {
     "iopub.execute_input": "2021-06-30T23:41:27.134549Z",
     "iopub.status.busy": "2021-06-30T23:41:27.132052Z",
     "iopub.status.idle": "2021-06-30T23:41:27.138039Z",
     "shell.execute_reply": "2021-06-30T23:41:27.138541Z"
    },
    "papermill": {
     "duration": 0.13677,
     "end_time": "2021-06-30T23:41:27.138703",
     "exception": false,
     "start_time": "2021-06-30T23:41:27.001933",
     "status": "completed"
    },
    "tags": []
   },
   "outputs": [
    {
     "data": {
      "text/plain": [
       "30.943128698224832"
      ]
     },
     "execution_count": 59,
     "metadata": {},
     "output_type": "execute_result"
    }
   ],
   "source": [
    "df_male.bmi.mean()"
   ]
  },
  {
   "cell_type": "code",
   "execution_count": 60,
   "id": "judicial-winner",
   "metadata": {
    "execution": {
     "iopub.execute_input": "2021-06-30T23:41:27.387997Z",
     "iopub.status.busy": "2021-06-30T23:41:27.387059Z",
     "iopub.status.idle": "2021-06-30T23:41:27.394167Z",
     "shell.execute_reply": "2021-06-30T23:41:27.394676Z"
    },
    "papermill": {
     "duration": 0.133636,
     "end_time": "2021-06-30T23:41:27.394837",
     "exception": false,
     "start_time": "2021-06-30T23:41:27.261201",
     "status": "completed"
    },
    "tags": []
   },
   "outputs": [
    {
     "name": "stdout",
     "output_type": "stream",
     "text": [
      "tstats =  1.696752635752224 , pvalue =  0.08997637178984932\n"
     ]
    }
   ],
   "source": [
    "# get statistic and p value\n",
    "t_statistic_2, p_value_2 = stats.ttest_ind(bmi_male, bmi_female)\n",
    "print(\"tstats = \",t_statistic_2, \", pvalue = \", p_value_2)"
   ]
  },
  {
   "cell_type": "code",
   "execution_count": 61,
   "id": "major-diving",
   "metadata": {
    "execution": {
     "iopub.execute_input": "2021-06-30T23:41:27.645042Z",
     "iopub.status.busy": "2021-06-30T23:41:27.644101Z",
     "iopub.status.idle": "2021-06-30T23:41:27.647866Z",
     "shell.execute_reply": "2021-06-30T23:41:27.647239Z"
    },
    "papermill": {
     "duration": 0.131267,
     "end_time": "2021-06-30T23:41:27.647993",
     "exception": false,
     "start_time": "2021-06-30T23:41:27.516726",
     "status": "completed"
    },
    "tags": []
   },
   "outputs": [
    {
     "name": "stdout",
     "output_type": "stream",
     "text": [
      "Conclusion:Since P value 0.08997637178984932 is greater than alpha 0.05 \n",
      "Failed to Reject Null Hypothesis  that there is difference in bmi of men and bmi of female .\n"
     ]
    }
   ],
   "source": [
    "if p_value_2 <alpha :\n",
    "    print(\"Conclusion:Since P value {} is less than alpha {} \". format (p_value_2,alpha) )\n",
    "    print(\"Reject Null Hypothesis  that there is no difference in bmi of men and bmi of female.\")\n",
    "    \n",
    "else:\n",
    "    print(\"Conclusion:Since P value {} is greater than alpha {} \". format (p_value_2,alpha))\n",
    "    print(\"Failed to Reject Null Hypothesis  that there is difference in bmi of men and bmi of female .\")\n"
   ]
  },
  {
   "cell_type": "markdown",
   "id": "entitled-potato",
   "metadata": {
    "papermill": {
     "duration": 0.122662,
     "end_time": "2021-06-30T23:41:27.893103",
     "exception": false,
     "start_time": "2021-06-30T23:41:27.770441",
     "status": "completed"
    },
    "tags": []
   },
   "source": [
    "<div class =\"alert alert-block alert-info\">\n",
    "    <font size=3><b>Step 5: Decide to reject or accept null hypothesis</b></font><br>\n",
    "     We fail to reject the null hypothesis and can conclude that There is no difference between BMI of Female and BMI of Male. </div>"
   ]
  },
  {
   "cell_type": "markdown",
   "id": "confident-lafayette",
   "metadata": {
    "papermill": {
     "duration": 0.124006,
     "end_time": "2021-06-30T23:41:28.138763",
     "exception": false,
     "start_time": "2021-06-30T23:41:28.014757",
     "status": "completed"
    },
    "tags": []
   },
   "source": [
    "# 3.Is the proportion of smokers significantly different across different regions?"
   ]
  },
  {
   "cell_type": "markdown",
   "id": "blessed-establishment",
   "metadata": {
    "papermill": {
     "duration": 0.12364,
     "end_time": "2021-06-30T23:41:28.384885",
     "exception": false,
     "start_time": "2021-06-30T23:41:28.261245",
     "status": "completed"
    },
    "tags": []
   },
   "source": [
    "<div class =\"alert alert-block alert-info\">\n",
    "    <font size=3><b>    Step 1: Define null and alternative hypotheses</b></font>\n",
    "\n",
    "* H<sub>0</sub> Smokers proportions is not significantly different across different regions\n",
    "* H<sub>a</sub> Smokers proportions is  different across different regions  <br>\n",
    "</div>"
   ]
  },
  {
   "cell_type": "markdown",
   "id": "weighted-guitar",
   "metadata": {
    "papermill": {
     "duration": 0.120691,
     "end_time": "2021-06-30T23:41:28.628719",
     "exception": false,
     "start_time": "2021-06-30T23:41:28.508028",
     "status": "completed"
    },
    "tags": []
   },
   "source": [
    "<div class =\"alert alert-block alert-info\">\n",
    "    <font size=3><b>Step 2: Decide the significance level</b></font>\n",
    "\n",
    "α = 0.05\n",
    "    </div>"
   ]
  },
  {
   "cell_type": "markdown",
   "id": "caroline-allah",
   "metadata": {
    "papermill": {
     "duration": 0.124176,
     "end_time": "2021-06-30T23:41:28.876668",
     "exception": false,
     "start_time": "2021-06-30T23:41:28.752492",
     "status": "completed"
    },
    "tags": []
   },
   "source": [
    "<div class =\"alert alert-block alert-info\">\n",
    "    <font size=3><b>Step 3: Identify Test</b></font><br>\n",
    "    Here we are comparing two different categorical variables, smoker and  different region. So perform a  Chi-sq Test.</div>"
   ]
  },
  {
   "cell_type": "markdown",
   "id": "enormous-reproduction",
   "metadata": {
    "papermill": {
     "duration": 0.126636,
     "end_time": "2021-06-30T23:41:29.128123",
     "exception": false,
     "start_time": "2021-06-30T23:41:29.001487",
     "status": "completed"
    },
    "tags": []
   },
   "source": [
    "<div class =\"alert alert-block alert-info\">\n",
    "    <font size=3><b>Step 4: Calculate the test-statistics and p-value</b></font></div>"
   ]
  },
  {
   "cell_type": "code",
   "execution_count": 62,
   "id": "touched-ladder",
   "metadata": {
    "execution": {
     "iopub.execute_input": "2021-06-30T23:41:29.383978Z",
     "iopub.status.busy": "2021-06-30T23:41:29.383009Z",
     "iopub.status.idle": "2021-06-30T23:41:29.407073Z",
     "shell.execute_reply": "2021-06-30T23:41:29.407745Z"
    },
    "papermill": {
     "duration": 0.15577,
     "end_time": "2021-06-30T23:41:29.407974",
     "exception": false,
     "start_time": "2021-06-30T23:41:29.252204",
     "status": "completed"
    },
    "tags": []
   },
   "outputs": [
    {
     "data": {
      "text/html": [
       "<div>\n",
       "<style scoped>\n",
       "    .dataframe tbody tr th:only-of-type {\n",
       "        vertical-align: middle;\n",
       "    }\n",
       "\n",
       "    .dataframe tbody tr th {\n",
       "        vertical-align: top;\n",
       "    }\n",
       "\n",
       "    .dataframe thead th {\n",
       "        text-align: right;\n",
       "    }\n",
       "</style>\n",
       "<table border=\"1\" class=\"dataframe\">\n",
       "  <thead>\n",
       "    <tr style=\"text-align: right;\">\n",
       "      <th>smoker</th>\n",
       "      <th>no</th>\n",
       "      <th>yes</th>\n",
       "    </tr>\n",
       "    <tr>\n",
       "      <th>region</th>\n",
       "      <th></th>\n",
       "      <th></th>\n",
       "    </tr>\n",
       "  </thead>\n",
       "  <tbody>\n",
       "    <tr>\n",
       "      <th>northeast</th>\n",
       "      <td>257</td>\n",
       "      <td>67</td>\n",
       "    </tr>\n",
       "    <tr>\n",
       "      <th>northwest</th>\n",
       "      <td>267</td>\n",
       "      <td>58</td>\n",
       "    </tr>\n",
       "    <tr>\n",
       "      <th>southeast</th>\n",
       "      <td>273</td>\n",
       "      <td>91</td>\n",
       "    </tr>\n",
       "    <tr>\n",
       "      <th>southwest</th>\n",
       "      <td>267</td>\n",
       "      <td>58</td>\n",
       "    </tr>\n",
       "  </tbody>\n",
       "</table>\n",
       "</div>"
      ],
      "text/plain": [
       "smoker      no  yes\n",
       "region             \n",
       "northeast  257   67\n",
       "northwest  267   58\n",
       "southeast  273   91\n",
       "southwest  267   58"
      ]
     },
     "execution_count": 62,
     "metadata": {},
     "output_type": "execute_result"
    }
   ],
   "source": [
    "contigency= pd.crosstab(insured.region, insured.smoker)\n",
    "contigency"
   ]
  },
  {
   "cell_type": "code",
   "execution_count": 63,
   "id": "illegal-victor",
   "metadata": {
    "execution": {
     "iopub.execute_input": "2021-06-30T23:41:29.683000Z",
     "iopub.status.busy": "2021-06-30T23:41:29.682044Z",
     "iopub.status.idle": "2021-06-30T23:41:29.871999Z",
     "shell.execute_reply": "2021-06-30T23:41:29.872571Z"
    },
    "papermill": {
     "duration": 0.319978,
     "end_time": "2021-06-30T23:41:29.872740",
     "exception": false,
     "start_time": "2021-06-30T23:41:29.552762",
     "status": "completed"
    },
    "scrolled": true,
    "tags": []
   },
   "outputs": [
    {
     "data": {
      "text/plain": [
       "<AxesSubplot:xlabel='region'>"
      ]
     },
     "execution_count": 63,
     "metadata": {},
     "output_type": "execute_result"
    },
    {
     "data": {
      "image/png": "[encoded data removed]",
      "text/plain": [
       "<Figure size 432x288 with 1 Axes>"
      ]
     },
     "metadata": {},
     "output_type": "display_data"
    }
   ],
   "source": [
    " contigency.plot(kind='bar')"
   ]
  },
  {
   "cell_type": "code",
   "execution_count": 64,
   "id": "pointed-night",
   "metadata": {
    "execution": {
     "iopub.execute_input": "2021-06-30T23:41:30.140216Z",
     "iopub.status.busy": "2021-06-30T23:41:30.139284Z",
     "iopub.status.idle": "2021-06-30T23:41:30.147022Z",
     "shell.execute_reply": "2021-06-30T23:41:30.146411Z"
    },
    "papermill": {
     "duration": 0.13526,
     "end_time": "2021-06-30T23:41:30.147154",
     "exception": false,
     "start_time": "2021-06-30T23:41:30.011894",
     "status": "completed"
    },
    "tags": []
   },
   "outputs": [
    {
     "name": "stdout",
     "output_type": "stream",
     "text": [
      "chi-square statistic: 7.343477761407071 , Pvalue: 0.06171954839170541 , Degree of freedom: 3 ,expected frequencies: [[257.65022422  66.34977578]\n",
      " [258.44544096  66.55455904]\n",
      " [289.45889387  74.54110613]\n",
      " [258.44544096  66.55455904]] \n"
     ]
    }
   ],
   "source": [
    "# Using the chi2_contingency test \n",
    "chi2, pval, dof, exp_freq = chi2_contingency(contigency, correction = False)\n",
    "print('chi-square statistic: {} , Pvalue: {} , Degree of freedom: {} ,expected frequencies: {} '.format(chi2, pval, dof, exp_freq))"
   ]
  },
  {
   "cell_type": "code",
   "execution_count": 65,
   "id": "interior-minnesota",
   "metadata": {
    "execution": {
     "iopub.execute_input": "2021-06-30T23:41:30.401311Z",
     "iopub.status.busy": "2021-06-30T23:41:30.400372Z",
     "iopub.status.idle": "2021-06-30T23:41:30.406788Z",
     "shell.execute_reply": "2021-06-30T23:41:30.407805Z"
    },
    "papermill": {
     "duration": 0.137178,
     "end_time": "2021-06-30T23:41:30.408091",
     "exception": false,
     "start_time": "2021-06-30T23:41:30.270913",
     "status": "completed"
    },
    "tags": []
   },
   "outputs": [
    {
     "name": "stdout",
     "output_type": "stream",
     "text": [
      "Failed to reject Null Hypothesis\n"
     ]
    }
   ],
   "source": [
    "if (pval < 0.05):\n",
    "    print('Reject Null Hypothesis')\n",
    "else:\n",
    "    print('Failed to reject Null Hypothesis')"
   ]
  },
  {
   "cell_type": "markdown",
   "id": "atomic-slave",
   "metadata": {
    "papermill": {
     "duration": 0.123076,
     "end_time": "2021-06-30T23:41:30.656392",
     "exception": false,
     "start_time": "2021-06-30T23:41:30.533316",
     "status": "completed"
    },
    "tags": []
   },
   "source": [
    "<div class =\"alert alert-block alert-info\">\n",
    "    <font size=3><b>Step 5: Decide to reject or accept null hypothesis</b></font><br>\n",
    "     We failed to reject the null hypothesis and conclude that Smoker proportions is not significantly different across different regions.\n",
    "    </div>"
   ]
  },
  {
   "cell_type": "markdown",
   "id": "brutal-pilot",
   "metadata": {
    "papermill": {
     "duration": 0.12397,
     "end_time": "2021-06-30T23:41:30.903612",
     "exception": false,
     "start_time": "2021-06-30T23:41:30.779642",
     "status": "completed"
    },
    "tags": []
   },
   "source": [
    "\n",
    "# 4.Is the mean BMI of women with no children, one child, and two children the same? Explain your answer with statistical evidence."
   ]
  },
  {
   "cell_type": "markdown",
   "id": "successful-mouse",
   "metadata": {
    "papermill": {
     "duration": 0.125864,
     "end_time": "2021-06-30T23:41:31.153083",
     "exception": false,
     "start_time": "2021-06-30T23:41:31.027219",
     "status": "completed"
    },
    "tags": []
   },
   "source": [
    "<div class =\"alert alert-block alert-info\">\n",
    "    <font size=3><b>    Step 1: Define null and alternative hypotheses</b></font>\n",
    "\n",
    "* H<sub>0</sub>: μ1 = μ2 = μ3  The mean BMI of women with no children , one child,two children is same <br>\n",
    "\n",
    "* H<sub>a</sub>:  Atleast  one of mean BMI of women is not same <br>\n",
    "</div>"
   ]
  },
  {
   "cell_type": "markdown",
   "id": "listed-northwest",
   "metadata": {
    "papermill": {
     "duration": 0.123444,
     "end_time": "2021-06-30T23:41:31.401220",
     "exception": false,
     "start_time": "2021-06-30T23:41:31.277776",
     "status": "completed"
    },
    "tags": []
   },
   "source": [
    "<div class =\"alert alert-block alert-info\">\n",
    "    <font size=3><b>Step 2: Decide the significance level</b></font>\n",
    "\n",
    "α = 0.05\n",
    "    </div>"
   ]
  },
  {
   "cell_type": "markdown",
   "id": "conventional-mainstream",
   "metadata": {
    "papermill": {
     "duration": 0.123889,
     "end_time": "2021-06-30T23:41:31.649270",
     "exception": false,
     "start_time": "2021-06-30T23:41:31.525381",
     "status": "completed"
    },
    "tags": []
   },
   "source": [
    "<div class =\"alert alert-block alert-info\">\n",
    "    <font size=3><b>Step 3: Identify Test</b></font><br>\n",
    "    \n",
    "One-way ANOVA - Equality of population through variances of samples.\n",
    "    </div>"
   ]
  },
  {
   "cell_type": "markdown",
   "id": "engaging-martial",
   "metadata": {
    "papermill": {
     "duration": 0.123788,
     "end_time": "2021-06-30T23:41:31.898156",
     "exception": false,
     "start_time": "2021-06-30T23:41:31.774368",
     "status": "completed"
    },
    "tags": []
   },
   "source": [
    "<div class =\"alert alert-block alert-info\">\n",
    "    <font size=3><b>Step 4: Calculate the test-statistics and p-value</b></font></div>"
   ]
  },
  {
   "cell_type": "code",
   "execution_count": 66,
   "id": "located-pioneer",
   "metadata": {
    "execution": {
     "iopub.execute_input": "2021-06-30T23:41:32.151092Z",
     "iopub.status.busy": "2021-06-30T23:41:32.150150Z",
     "iopub.status.idle": "2021-06-30T23:41:32.168936Z",
     "shell.execute_reply": "2021-06-30T23:41:32.168209Z"
    },
    "papermill": {
     "duration": 0.146996,
     "end_time": "2021-06-30T23:41:32.169076",
     "exception": false,
     "start_time": "2021-06-30T23:41:32.022080",
     "status": "completed"
    },
    "tags": []
   },
   "outputs": [
    {
     "data": {
      "text/html": [
       "<div>\n",
       "<style scoped>\n",
       "    .dataframe tbody tr th:only-of-type {\n",
       "        vertical-align: middle;\n",
       "    }\n",
       "\n",
       "    .dataframe tbody tr th {\n",
       "        vertical-align: top;\n",
       "    }\n",
       "\n",
       "    .dataframe thead th {\n",
       "        text-align: right;\n",
       "    }\n",
       "</style>\n",
       "<table border=\"1\" class=\"dataframe\">\n",
       "  <thead>\n",
       "    <tr style=\"text-align: right;\">\n",
       "      <th></th>\n",
       "      <th>age</th>\n",
       "      <th>sex</th>\n",
       "      <th>bmi</th>\n",
       "      <th>children</th>\n",
       "      <th>smoker</th>\n",
       "      <th>BMIGroup</th>\n",
       "      <th>AgeBin</th>\n",
       "      <th>region</th>\n",
       "      <th>charges</th>\n",
       "    </tr>\n",
       "  </thead>\n",
       "  <tbody>\n",
       "    <tr>\n",
       "      <th>0</th>\n",
       "      <td>19</td>\n",
       "      <td>female</td>\n",
       "      <td>27.90</td>\n",
       "      <td>0</td>\n",
       "      <td>yes</td>\n",
       "      <td>25-35</td>\n",
       "      <td>18-28</td>\n",
       "      <td>southwest</td>\n",
       "      <td>16884.92400</td>\n",
       "    </tr>\n",
       "    <tr>\n",
       "      <th>5</th>\n",
       "      <td>31</td>\n",
       "      <td>female</td>\n",
       "      <td>25.74</td>\n",
       "      <td>0</td>\n",
       "      <td>no</td>\n",
       "      <td>25-35</td>\n",
       "      <td>28-38</td>\n",
       "      <td>southeast</td>\n",
       "      <td>3756.62160</td>\n",
       "    </tr>\n",
       "    <tr>\n",
       "      <th>6</th>\n",
       "      <td>46</td>\n",
       "      <td>female</td>\n",
       "      <td>33.44</td>\n",
       "      <td>1</td>\n",
       "      <td>no</td>\n",
       "      <td>25-35</td>\n",
       "      <td>38-48</td>\n",
       "      <td>southeast</td>\n",
       "      <td>8240.58960</td>\n",
       "    </tr>\n",
       "    <tr>\n",
       "      <th>9</th>\n",
       "      <td>60</td>\n",
       "      <td>female</td>\n",
       "      <td>25.84</td>\n",
       "      <td>0</td>\n",
       "      <td>no</td>\n",
       "      <td>25-35</td>\n",
       "      <td>58-68</td>\n",
       "      <td>northwest</td>\n",
       "      <td>28923.13692</td>\n",
       "    </tr>\n",
       "    <tr>\n",
       "      <th>11</th>\n",
       "      <td>62</td>\n",
       "      <td>female</td>\n",
       "      <td>26.29</td>\n",
       "      <td>0</td>\n",
       "      <td>yes</td>\n",
       "      <td>25-35</td>\n",
       "      <td>58-68</td>\n",
       "      <td>southeast</td>\n",
       "      <td>27808.72510</td>\n",
       "    </tr>\n",
       "  </tbody>\n",
       "</table>\n",
       "</div>"
      ],
      "text/plain": [
       "    age     sex    bmi  children smoker BMIGroup AgeBin     region  \\\n",
       "0    19  female  27.90         0    yes    25-35  18-28  southwest   \n",
       "5    31  female  25.74         0     no    25-35  28-38  southeast   \n",
       "6    46  female  33.44         1     no    25-35  38-48  southeast   \n",
       "9    60  female  25.84         0     no    25-35  58-68  northwest   \n",
       "11   62  female  26.29         0    yes    25-35  58-68  southeast   \n",
       "\n",
       "        charges  \n",
       "0   16884.92400  \n",
       "5    3756.62160  \n",
       "6    8240.58960  \n",
       "9   28923.13692  \n",
       "11  27808.72510  "
      ]
     },
     "execution_count": 66,
     "metadata": {},
     "output_type": "execute_result"
    }
   ],
   "source": [
    "# Filtering data of only women with 0, 1 and 2 children\n",
    "df_female_child = df_female.loc[df_female['children']<=2]\n",
    "df_female_child.head()"
   ]
  },
  {
   "cell_type": "code",
   "execution_count": 67,
   "id": "convertible-madison",
   "metadata": {
    "execution": {
     "iopub.execute_input": "2021-06-30T23:41:32.427140Z",
     "iopub.status.busy": "2021-06-30T23:41:32.426235Z",
     "iopub.status.idle": "2021-06-30T23:41:32.435220Z",
     "shell.execute_reply": "2021-06-30T23:41:32.435708Z"
    },
    "papermill": {
     "duration": 0.138508,
     "end_time": "2021-06-30T23:41:32.435873",
     "exception": false,
     "start_time": "2021-06-30T23:41:32.297365",
     "status": "completed"
    },
    "tags": []
   },
   "outputs": [
    {
     "data": {
      "text/plain": [
       "children\n",
       "0    30.361522\n",
       "1    30.052658\n",
       "2    30.649790\n",
       "Name: bmi, dtype: float64"
      ]
     },
     "execution_count": 67,
     "metadata": {},
     "output_type": "execute_result"
    }
   ],
   "source": [
    "#pd.pivot_table(data=df_female_filtered,index=df_female_filtered.children,columns=df_female_filtered.bmi,values=df_female_filtered.bmi,fill_value=0)\n",
    "df_female_child.groupby([df_female_child.children]).mean().bmi"
   ]
  },
  {
   "cell_type": "code",
   "execution_count": 68,
   "id": "single-annual",
   "metadata": {
    "execution": {
     "iopub.execute_input": "2021-06-30T23:41:32.688372Z",
     "iopub.status.busy": "2021-06-30T23:41:32.687440Z",
     "iopub.status.idle": "2021-06-30T23:41:32.849164Z",
     "shell.execute_reply": "2021-06-30T23:41:32.849650Z"
    },
    "papermill": {
     "duration": 0.289418,
     "end_time": "2021-06-30T23:41:32.849829",
     "exception": false,
     "start_time": "2021-06-30T23:41:32.560411",
     "status": "completed"
    },
    "tags": []
   },
   "outputs": [
    {
     "data": {
      "image/png": "[encoded data removed]",
      "text/plain": [
       "<Figure size 432x288 with 1 Axes>"
      ]
     },
     "metadata": {},
     "output_type": "display_data"
    }
   ],
   "source": [
    "# Women BMI with children 0, 1, 2;\n",
    "sns.boxplot(x=\"children\", y=\"bmi\", data=df_female_child)\n",
    "plt.grid()\n",
    "plt.show()"
   ]
  },
  {
   "cell_type": "code",
   "execution_count": 69,
   "id": "living-market",
   "metadata": {
    "execution": {
     "iopub.execute_input": "2021-06-30T23:41:33.106167Z",
     "iopub.status.busy": "2021-06-30T23:41:33.105235Z",
     "iopub.status.idle": "2021-06-30T23:41:33.135493Z",
     "shell.execute_reply": "2021-06-30T23:41:33.134990Z"
    },
    "papermill": {
     "duration": 0.15966,
     "end_time": "2021-06-30T23:41:33.135627",
     "exception": false,
     "start_time": "2021-06-30T23:41:32.975967",
     "status": "completed"
    },
    "tags": []
   },
   "outputs": [
    {
     "data": {
      "text/html": [
       "<div>\n",
       "<style scoped>\n",
       "    .dataframe tbody tr th:only-of-type {\n",
       "        vertical-align: middle;\n",
       "    }\n",
       "\n",
       "    .dataframe tbody tr th {\n",
       "        vertical-align: top;\n",
       "    }\n",
       "\n",
       "    .dataframe thead th {\n",
       "        text-align: right;\n",
       "    }\n",
       "</style>\n",
       "<table border=\"1\" class=\"dataframe\">\n",
       "  <thead>\n",
       "    <tr style=\"text-align: right;\">\n",
       "      <th></th>\n",
       "      <th>df</th>\n",
       "      <th>sum_sq</th>\n",
       "      <th>mean_sq</th>\n",
       "      <th>F</th>\n",
       "      <th>PR(&gt;F)</th>\n",
       "    </tr>\n",
       "  </thead>\n",
       "  <tbody>\n",
       "    <tr>\n",
       "      <th>C(children)</th>\n",
       "      <td>2.0</td>\n",
       "      <td>24.590123</td>\n",
       "      <td>12.295062</td>\n",
       "      <td>0.334472</td>\n",
       "      <td>0.715858</td>\n",
       "    </tr>\n",
       "    <tr>\n",
       "      <th>Residual</th>\n",
       "      <td>563.0</td>\n",
       "      <td>20695.661583</td>\n",
       "      <td>36.759612</td>\n",
       "      <td>NaN</td>\n",
       "      <td>NaN</td>\n",
       "    </tr>\n",
       "  </tbody>\n",
       "</table>\n",
       "</div>"
      ],
      "text/plain": [
       "                df        sum_sq    mean_sq         F    PR(>F)\n",
       "C(children)    2.0     24.590123  12.295062  0.334472  0.715858\n",
       "Residual     563.0  20695.661583  36.759612       NaN       NaN"
      ]
     },
     "execution_count": 69,
     "metadata": {},
     "output_type": "execute_result"
    }
   ],
   "source": [
    "\n",
    "# Applying ANOVA and cheking each children count (0,1,2) with the bmi;\n",
    "formula = 'bmi ~ C(children)'\n",
    "model = ols(formula, df_female_child).fit()\n",
    "aov_table = anova_lm(model)\n",
    "aov_table"
   ]
  },
  {
   "cell_type": "markdown",
   "id": "preliminary-tyler",
   "metadata": {
    "papermill": {
     "duration": 0.126437,
     "end_time": "2021-06-30T23:41:33.388877",
     "exception": false,
     "start_time": "2021-06-30T23:41:33.262440",
     "status": "completed"
    },
    "tags": []
   },
   "source": [
    "<div class =\"alert alert-block alert-info\">\n",
    "    <font size=3><b>Step 5: Decide to reject or accept null hypothesis</b></font><br>\n",
    "     P value is 0.715858 and it is greater than aplha(0.05) ,We failed to  reject the null hypothesis and conclude that mean Bmi of women  with no children,one children, two children is same. </div>\n",
    "    "
   ]
  },
  {
   "cell_type": "markdown",
   "id": "0e03c398",
   "metadata": {
    "papermill": {
     "duration": 0.125978,
     "end_time": "2021-06-30T23:41:33.641672",
     "exception": false,
     "start_time": "2021-06-30T23:41:33.515694",
     "status": "completed"
    },
    "tags": []
   },
   "source": [
    "<a id=\"br\"></a>\n",
    "<h2 style=\"background-color: steelblue; \n",
    "    color: white; \n",
    "    padding: 8px; \n",
    "    padding-right: 300px; \n",
    "    font-size: 24px; \n",
    "    font-family:Garamond \n",
    "    max-width: 1500px; \n",
    "    margin-top: 50px;\n",
    "    margin-bottom:4px;\">Recommendation</h2>"
   ]
  },
  {
   "cell_type": "markdown",
   "id": "scenic-affairs",
   "metadata": {
    "papermill": {
     "duration": 0.125978,
     "end_time": "2021-06-30T23:41:33.641672",
     "exception": false,
     "start_time": "2021-06-30T23:41:33.515694",
     "status": "completed"
    },
    "tags": []
   },
   "source": [
    "- Based on EDA and statistical  evidence it can be seen that  customer who smoke or   have higher  BMI  have more higher claims. We can encourage customers to quit smoking by providing them  incentive points  for talking to life coach, get help for improving lifestyle habits,  Quit Tobacco- 28 day program. Give gift cards when customer accumulates specific number of points.\n",
    "- We can have Active wellness programs which can help up reduce claims related to BMI.\n",
    "- High BMI  is primarily because of unhealthy life choices. We can provide customers with Diet plans and wellness health coaches which can help them to make right choices.\n",
    "- Provide discount coupons  for Gym  or  fitness devices encouraging customers to exercise."
   ]
  }
 ],
 "metadata": {
  "kernelspec": {
   "display_name": "Python 3",
   "language": "python",
   "name": "python3"
  },
  "language_info": {
   "codemirror_mode": {
    "name": "ipython",
    "version": 3
   },
   "file_extension": ".py",
   "mimetype": "text/x-python",
   "name": "python",
   "nbconvert_exporter": "python",
   "pygments_lexer": "ipython3",
   "version": "3.8.8"
  },
  "papermill": {
   "default_parameters": {},
   "duration": 48.468203,
   "end_time": "2021-06-30T23:41:34.477480",
   "environment_variables": {},
   "exception": null,
   "input_path": "__notebook__.ipynb",
   "output_path": "__notebook__.ipynb",
   "parameters": {},
   "start_time": "2021-06-30T23:40:46.009277",
   "version": "2.3.2"
  }
 },
 "nbformat": 4,
 "nbformat_minor": 5
}
